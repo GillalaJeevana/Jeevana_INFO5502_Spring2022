{
  "cells": [
    {
      "cell_type": "markdown",
      "metadata": {
        "id": "view-in-github",
        "colab_type": "text"
      },
      "source": [
        "<a href=\"https://colab.research.google.com/github/GillalaJeevana/Jeevana_INFO5502_Spring2022/blob/main/lab_assignment_09.ipynb\" target=\"_parent\"><img src=\"https://colab.research.google.com/assets/colab-badge.svg\" alt=\"Open In Colab\"/></a>"
      ]
    },
    {
      "cell_type": "markdown",
      "metadata": {
        "id": "Qo4v_NxxlHza"
      },
      "source": [
        "## The ninth Lab-assignment (04/14/2022, 50 points in total)"
      ]
    },
    {
      "cell_type": "markdown",
      "metadata": {
        "id": "14zJ41E2lHzb"
      },
      "source": [
        "The purpose of this assignment is to practice different Hypothesis Testing."
      ]
    },
    {
      "cell_type": "markdown",
      "metadata": {
        "id": "ZZCaC_lqlHzc"
      },
      "source": [
        "### Question 1 (15 points) \n",
        "\n",
        "During the 1980s, the general consensus is that about 5% of the nation’s children had autism. Some claimed that increases certain chemicals in the environment has led to an increase in autism. \n",
        "\n",
        "(1) Write an appropriate hypothesis test for this situation (5 points).  \n",
        "\n",
        "(2) Give an appropriate test for this hypothesis, stating what are the necessary conditions for performing the test (5 points). \n",
        "\n",
        "(3) A recent study examined 384 children and found that 46 showed signs of autism. Perform a test of the hypothesis and state the p-value (5 points). "
      ]
    },
    {
      "cell_type": "code",
      "execution_count": 73,
      "metadata": {
        "id": "2lPHBzh5lHzh"
      },
      "outputs": [],
      "source": [
        "# You answer here\n",
        "#1)\n",
        "#H0: 5% of Nations Children had autism.\n",
        "#HA: 5% of Nations Children doesnt have autism.\n",
        "\n",
        "#0.05 is the result for appropriate hypothesis test."
      ]
    },
    {
      "cell_type": "code",
      "source": [
        "\n",
        "# 2)\n",
        "\"\"\"   The appropriate test for hypothesis is the sample Z test of proportions.\n",
        "      Necessary conditons for performing the test :-\n",
        "      1)First we have to State the null and alternative hypothesis\n",
        "      2)Second we have to determine the significance level\n",
        "      3)Then,Calculate the test statistic\n",
        "      4)we need to Determine the critical value by taking the critical value from the table\n",
        "      5)outline the rejection criteria\n",
        "      6)Finally, demonstrate the result.then, if the test statistic falls in critical region. then, reject the null hypothesis. \n",
        "\"\"\""
      ],
      "metadata": {
        "colab": {
          "base_uri": "https://localhost:8080/",
          "height": 105
        },
        "id": "IYPCZ-MM0S3L",
        "outputId": "58a25c23-299a-47ef-d550-e83bea6ec81a"
      },
      "execution_count": 74,
      "outputs": [
        {
          "output_type": "execute_result",
          "data": {
            "text/plain": [
              "'   The appropriate test for hypothesis is the sample Z test of proportions.\\n      Necessary conditons for performing the test :-\\n      1)First we have to State the null and alternative hypothesis\\n      2)Second we have to determine the significance level\\n      3)Then,Calculate the test statistic\\n      4)we need to Determine the critical value by taking the critical value from the table\\n      5)outline the rejection criteria\\n      6)Finally, demonstrate the result.then, if the test statistic falls in critical region. then, reject the null hypothesis. \\n'"
            ],
            "application/vnd.google.colaboratory.intrinsic+json": {
              "type": "string"
            }
          },
          "metadata": {},
          "execution_count": 74
        }
      ]
    },
    {
      "cell_type": "code",
      "source": [
        "pip install statsmodels"
      ],
      "metadata": {
        "colab": {
          "base_uri": "https://localhost:8080/"
        },
        "id": "RG6NwZqWxf-1",
        "outputId": "b3ff2405-14f3-43e9-9aac-930be6acd70e"
      },
      "execution_count": 75,
      "outputs": [
        {
          "output_type": "stream",
          "name": "stdout",
          "text": [
            "Requirement already satisfied: statsmodels in /usr/local/lib/python3.7/dist-packages (0.10.2)\n",
            "Requirement already satisfied: scipy>=0.18 in /usr/local/lib/python3.7/dist-packages (from statsmodels) (1.4.1)\n",
            "Requirement already satisfied: pandas>=0.19 in /usr/local/lib/python3.7/dist-packages (from statsmodels) (1.3.5)\n",
            "Requirement already satisfied: numpy>=1.11 in /usr/local/lib/python3.7/dist-packages (from statsmodels) (1.21.6)\n",
            "Requirement already satisfied: patsy>=0.4.0 in /usr/local/lib/python3.7/dist-packages (from statsmodels) (0.5.2)\n",
            "Requirement already satisfied: python-dateutil>=2.7.3 in /usr/local/lib/python3.7/dist-packages (from pandas>=0.19->statsmodels) (2.8.2)\n",
            "Requirement already satisfied: pytz>=2017.3 in /usr/local/lib/python3.7/dist-packages (from pandas>=0.19->statsmodels) (2022.1)\n",
            "Requirement already satisfied: six in /usr/local/lib/python3.7/dist-packages (from patsy>=0.4.0->statsmodels) (1.15.0)\n"
          ]
        }
      ]
    },
    {
      "cell_type": "code",
      "execution_count": 76,
      "metadata": {
        "colab": {
          "base_uri": "https://localhost:8080/"
        },
        "id": "cRiGefUdlHzi",
        "outputId": "75158370-cf79-413f-cf24-39dfdcae7ea3"
      },
      "outputs": [
        {
          "output_type": "stream",
          "name": "stdout",
          "text": [
            "Z-stat value is -77.2644132497523\n",
            "p-value is 0.0\n"
          ]
        }
      ],
      "source": [
        "from statsmodels.stats.proportion import proportions_ztest\n",
        "\n",
        "p = 0.05\n",
        "n_population = 384\n",
        "x_sample = 46\n",
        "\n",
        "print(\"Z-stat value is\", proportions_ztest(count = 5, nobs = n_population, value = 0.46)[0])\n",
        "print(\"p-value is\", proportions_ztest(count = 5, nobs = n_population, value = 0.46)[1])\n"
      ]
    },
    {
      "cell_type": "code",
      "source": [
        "#The p-value is 0.0, which means that it is less than 0.05. As a result, the null hypothesis is ruled out. ( )\n"
      ],
      "metadata": {
        "id": "09dB6AQj1c1a"
      },
      "execution_count": null,
      "outputs": []
    },
    {
      "cell_type": "markdown",
      "metadata": {
        "id": "RIBr5lJblHzi"
      },
      "source": [
        "### Question 2 (15 points) \n",
        "\n",
        "National data in the 1960s showed that about 44% of the adult population had never smoked. \n",
        "\n",
        "(1) State a null and alternative hypothesis to test that the fraction of the 1995 population of adults that had never smoked had increased (5 points).  \n",
        "\n",
        "(2) A national random sample of 891 adults were interviewed and 463 stated that they had never smoked. Perform a z-test of the hypothesis and give an approriate p-value (5 points). \n",
        "\n",
        "(3) Create a 98% confidence interval for the proportion of adults who had never been smokers (5 points). "
      ]
    },
    {
      "cell_type": "code",
      "source": [
        "# You answer here\n",
        "\n",
        "#H0: The population of the adults who had never smoked had increased\n",
        "#HA: The population of the adults who had never smoked had decreased"
      ],
      "metadata": {
        "id": "oEM7WuVVxwwG"
      },
      "execution_count": null,
      "outputs": []
    },
    {
      "cell_type": "code",
      "execution_count": 77,
      "metadata": {
        "colab": {
          "base_uri": "https://localhost:8080/"
        },
        "id": "hXta1QCulHzi",
        "outputId": "fd930a14-fd7d-4d85-d807-4ff2ba720b6e"
      },
      "outputs": [
        {
          "output_type": "stream",
          "name": "stdout",
          "text": [
            "Z-stat value is -631.062712892761\n",
            "p-value is 0.0\n"
          ]
        }
      ],
      "source": [
        "#2)\n",
        "\n",
        "from statsmodels.stats.proportion import proportions_ztest\n",
        "\n",
        "p = 0.05\n",
        "n_population = 891\n",
        "x_sample = 463\n",
        "\n",
        "print(\"Z-stat value is\", proportions_ztest(count = 44, nobs = n_population, value = 4.63)[0])\n",
        "print(\"p-value is\", proportions_ztest(count = 5, nobs = n_population, value = 4.63)[1])"
      ]
    },
    {
      "cell_type": "code",
      "source": [
        "# your code here\n",
        "# 3.)\n",
        "import numpy as np\n",
        "import scipy.stats as st\n",
        "\n",
        "n_population = 891\n",
        "\n",
        "# create 95% confidence interval\n",
        "print(\"The 98 % confidence interval for adult population that never smoked are\\n\", st.t.interval(alpha=0.98,\n",
        "              df = n_population-1,\n",
        "              loc = 44, \n",
        "              scale = 4.63))"
      ],
      "metadata": {
        "colab": {
          "base_uri": "https://localhost:8080/"
        },
        "id": "CBxHRPp250BY",
        "outputId": "8daf78ff-f2a9-46f1-d8b7-200d2a96caf5"
      },
      "execution_count": 78,
      "outputs": [
        {
          "output_type": "stream",
          "name": "stdout",
          "text": [
            "The 98 % confidence interval for adult population that never smoked are\n",
            " (33.2095762998281, 54.7904237001719)\n"
          ]
        }
      ]
    },
    {
      "cell_type": "markdown",
      "metadata": {
        "id": "ZnULya6ClHzi"
      },
      "source": [
        "### Question 3 (15 points) \n",
        "In this problem,we will examine the sugar content of several national brands of cereals, here measured as a percentage of weight.\n",
        "\n",
        "![assignmen_9.png](attachment:assignmen_9.png)\n",
        "\n",
        "(1) Give a summary of these two datasets (5 points). \n",
        "\n",
        "(2) Create side-by-side boxplots and interpret what you see (5 points). \n",
        "\n",
        "(3) Use python to create a 95% confidence interval for the difference in mean sugar content and explain your result (5 points). "
      ]
    },
    {
      "cell_type": "code",
      "execution_count": 79,
      "metadata": {
        "colab": {
          "base_uri": "https://localhost:8080/"
        },
        "id": "1_jivTdllHzj",
        "outputId": "02645f3e-bcc0-4eb6-a291-1e6a06dede30"
      },
      "outputs": [
        {
          "output_type": "stream",
          "name": "stdout",
          "text": [
            "Mean Sugar % in children's cereal brands 46.800000000000004\n",
            "Standard deviation of sugar % in children's cereal brands 6.24718884147523\n",
            "\n",
            "Std.Deviation of sugar % in cereals brands of adult 10.153571428571427\n",
            "Std.Deviation of sugar % in cereals brands of adult 7.475220118252474\n"
          ]
        }
      ],
      "source": [
        "# 1.)\n",
        "import numpy as np\n",
        "import math\n",
        "\n",
        "# sample data\n",
        "children = [40.3, 55.0, 45.7, 43.3, 50.3, 45.9, 53.5, 43.0, 44.2, 44.0, 33.6, 55.1, 48.8,\n",
        "            50.4, 37.8, 60.3, 46.6, 47.4, 44.0]\n",
        "\n",
        "adult = [20.0, 30.2, 2.2, 7.5, 4.4, 22.2, 16.6, 14.5, 21.4, 3.3, 10.0, 1.0, 4.4, 1.3, 8.1, 6.6, 7.8, 10.6, 16.2, 14.5,\n",
        "        4.1, 15.8, 4.1, 2.4, 3.5, 8.5, 4.7, 18.4]\n",
        "\n",
        "print(\"Mean Sugar % in children's cereal brands\", np.mean(children))\n",
        "print(\"Standard deviation of sugar % in children's cereal brands\", np.std(children))\n",
        "print()\n",
        "print(\"Std.Deviation of sugar % in cereals brands of adult\", np.mean(adult))\n",
        "print(\"Std.Deviation of sugar % in cereals brands of adult\", np.std(adult))"
      ]
    },
    {
      "cell_type": "code",
      "execution_count": 80,
      "metadata": {
        "colab": {
          "base_uri": "https://localhost:8080/",
          "height": 265
        },
        "id": "AhS32tZhlHzj",
        "outputId": "1f34014a-9ad7-48e7-bd97-607003ecd9fb"
      },
      "outputs": [
        {
          "output_type": "display_data",
          "data": {
            "text/plain": [
              "<Figure size 432x288 with 2 Axes>"
            ],
            "image/png": "[encoded data removed]"
          },
          "metadata": {
            "needs_background": "light"
          }
        }
      ],
      "source": [
        "\n",
        "# 2.)\n",
        "import matplotlib.pyplot as plt\n",
        "import numpy as np\n",
        " \n",
        "children = [40.3, 55.0, 45.7, 43.3, 50.3, 45.9, 53.5, 43.0, 44.2, 44.0, 33.6, 55.1, 48.8,\n",
        "            50.4, 37.8, 60.3, 46.6, 47.4, 44.0]\n",
        "\n",
        "adult = [20.0, 30.2, 2.2, 7.5, 4.4, 22.2, 16.6, 14.5, 21.4, 3.3, 10.0, 1.0, 4.4, 1.3, 8.1, 6.6, 7.8, 10.6, 16.2, 14.5,\n",
        "        4.1, 15.8, 4.1, 2.4, 3.5, 8.5, 4.7, 18.4]\n",
        "\n",
        "plt.subplot(1, 2, 1)\n",
        "# Creating box plot\n",
        "plt.boxplot(children)\n",
        "\n",
        "\n",
        "plt.subplot(1, 2, 2)\n",
        "# Creating box plot\n",
        "plt.boxplot(adult)\n",
        " \n",
        "# show plot\n",
        "plt.show()"
      ]
    },
    {
      "cell_type": "code",
      "source": [
        "# We observe that the there are no outliers in adult cereal brand sugar percent.\n",
        "#There is an outlier in children's cereal brand sugar percent.\n",
        "#The ranges of both the list of values are different."
      ],
      "metadata": {
        "id": "kia1E3igtkB5"
      },
      "execution_count": null,
      "outputs": []
    },
    {
      "cell_type": "code",
      "source": [
        "#3)\n",
        "\n",
        "diffmean = np.mean(children) - np.mean(adult)\n",
        "z = 1.96 # as it is 95% confidence interval\n",
        "\n",
        "error = z*(math.sqrt(((np.std(children)*np.std(children)/len(children)))+((np.std(adult)*np.std(adult)/len(adult)))))\n",
        "\n",
        "print('Confidence interval of difference in mean is : (' , diffmean - error, ',',diffmean + error,')')"
      ],
      "metadata": {
        "colab": {
          "base_uri": "https://localhost:8080/"
        },
        "id": "EWQO9P2g5ScP",
        "outputId": "557b5beb-e218-4297-bbc2-ed11ab252cdd"
      },
      "execution_count": 81,
      "outputs": [
        {
          "output_type": "stream",
          "name": "stdout",
          "text": [
            "Confidence interval of difference in mean is : ( 32.70212757754736 , 40.5907295653098 )\n"
          ]
        }
      ]
    },
    {
      "cell_type": "code",
      "source": [
        "#According to the 95% confidence interval for children, sugar content percent of cereals for children brands is between 43.70 and 49.89, which is where 95 percent of observations are found.\n",
        "#According to the 95% confidence interval for adults, the sugar content percent of cereals for adult brands is between 7.20 and 13.10, which is where 95 percent of observations are found."
      ],
      "metadata": {
        "id": "UnR3KcQvtWNo"
      },
      "execution_count": null,
      "outputs": []
    },
    {
      "cell_type": "markdown",
      "metadata": {
        "id": "ELjuausGlHzj"
      },
      "source": [
        "### Question 4 (15 points, with 10 extra point included) A/B Testing"
      ]
    },
    {
      "cell_type": "markdown",
      "metadata": {
        "id": "nxAWe_AVlHzj"
      },
      "source": [
        "Punishment for crime has many [philosophical justifications](http://plato.stanford.edu/entries/punishment/#ThePun).  An important one is that fear of punishment may *deter* people from committing crimes.\n",
        "\n",
        "In the United States, some jurisdictions execute people who are convicted of particularly serious crimes, such as murder.  This punishment is called the *death penalty* or *capital punishment*.  The death penalty is controversial, and deterrence has been one focal point of the debate.  There are other reasons to support or oppose the death penalty, but in this project we'll focus on deterrence.\n",
        "\n",
        "The key question about deterrence is:\n",
        "\n",
        "> Through our exploration, does instituting a death penalty for murder actually reduce the number of murders?\n",
        "\n",
        "You might have a strong intuition in one direction, but the evidence turns out to be surprisingly complex.  Different sides have variously argued that the death penalty has no deterrent effect and that each execution prevents 8 murders, all using statistical arguments!  We'll try to come to our own conclusion.\n",
        "\n",
        "#### The data\n",
        "\n",
        "The main data source for this lab comes from a [paper](http://cjlf.org/deathpenalty/DezRubShepDeterFinal.pdf) by three researchers, Dezhbakhsh, Rubin, and Shepherd.  The dataset contains rates of various violent crimes for every year 1960-2003 (44 years) in every US state.  The researchers compiled the data from the FBI's Uniform Crime Reports.\n",
        "\n",
        "Since crimes are committed by people, not states, we need to account for the number of people in each state when we're looking at state-level data.  Murder rates are calculated as follows:\n",
        "\n",
        "$$\\text{murder rate for state X in year Y} = \\frac{\\text{number of murders in state X in year Y}}{\\text{population in state X in year Y}}*100000$$\n",
        "\n",
        "(Murder is rare, so we multiply by 100,000 just to avoid dealing with tiny numbers.)\n",
        "\n",
        "Murder rates vary over time, and different states exhibit different trends. The rates in some states change dramatically from year to year, while others are quite stable. Let's plot a couple, just to see the variety.\n",
        "\n",
        "*Hint*: To create two lines, you will need create the table `ak_mn` with two columns of murder rates, in addition to a column of years. This table will have the following structure:\n",
        "\n",
        "| Year | Murder rate in Alaska | Murder rate in Minnesota |\n",
        "|------|-----------------------|--------------------------|\n",
        "| 1960 | 10.2                  | 1.2                      |\n",
        "| 1961 | 11.5                  | 1                        |\n",
        "| 1962 | 4.5                   | 0.9                      |\n",
        "\n",
        "<center>... (41 rows omitted)</center>\n",
        "\n",
        "Some US states have the death penalty, and others don't, and laws have changed over time. In addition to changes in murder rates, we will also consider whether the death penalty was in force in each state and each year.\n",
        "\n",
        "Using this information, we would like to investigate how the presence of the death penalty affects the murder rate of a state."
      ]
    },
    {
      "cell_type": "markdown",
      "metadata": {
        "id": "Y5RAZ38RlHzj"
      },
      "source": [
        "(1) Use preban_rates_copy and postban_rates to create a table change_in_death_rates that contains each state's population, murder rate, and whether or not that state had the death penalty for both 1971 and 1973. (5 points)\n",
        "\n",
        "Create a table rate_means that contains the average murder rates for the states that had the death penalty and the states that didn't have the death penalty. It should have two columns: one indicating if the penalty was in place, and one that contains the average murder rate for each group.\n",
        "\n",
        "Hint: tbl_1.append(tbl_2) with create a new table that includes rows from both tbl_1 and tbl_2. Both tables must have the exactly the same columns, in the same order.\n",
        "\n",
        "(2) We want to figure out if there is a difference between the distribution of death rates in 1971 and 1973. Specifically, we want to test if murder rates were higher in 1973 than they were in 1971. You are required to conduct A/B Testing below (10 points):\n",
        "\n",
        "(2-1) Set observed_difference to the observed test statistic using the rate_means table. \n",
        "\n",
        "\n",
        "(2-2) Given a table like change_in_death_rates, a value column label, and a group column group_label, write a function that calculates the appropriate test statistic.\n",
        "\n",
        "(2-3) Write a function simulate_and_test_statistic to compute one trial of our A/B test. Your function should run a simulation and return a test statistic.\n",
        "\n",
        "(2-4) Simulate 5000 trials of our A/B test and store the test statistics in an array called differences.\n",
        "\n",
        "(2-5) Find the p-value for your test and assign it to empirical_P.\n",
        "\n",
        "(2-6) Using a 5% P-value cutoff, draw a conclusion about the null and alternative hypotheses. Describe your findings using simple, non-technical language. What does your analysis tell you about murder rates after the death penalty was suspended? What can you claim about causation from your statistical analysis?\n"
      ]
    },
    {
      "cell_type": "code",
      "source": [
        "import numpy as np\n",
        "from datascience import *\n",
        "import matplotlib\n",
        "# %matplotlib inline\n",
        "import matplotlib.pyplot as plt\n",
        "murder_rates = Table.read_table('/content/sample_data/crime_rates.csv').select('State', 'Year', 'Population', 'Murder Rate')\n",
        "murder_rates.set_format(\"Population\", NumberFormatter)"
      ],
      "metadata": {
        "colab": {
          "base_uri": "https://localhost:8080/",
          "height": 392
        },
        "id": "65OPSU7DtyaJ",
        "outputId": "463dbf11-c899-431c-9920-f0040e079c16"
      },
      "execution_count": 96,
      "outputs": [
        {
          "output_type": "execute_result",
          "data": {
            "text/plain": [
              "State  | Year | Population | Murder Rate\n",
              "Alaska | 1960 | 226,167    | 10.2\n",
              "Alaska | 1961 | 234,000    | 11.5\n",
              "Alaska | 1962 | 246,000    | 4.5\n",
              "Alaska | 1963 | 248,000    | 6.5\n",
              "Alaska | 1964 | 250,000    | 10.4\n",
              "Alaska | 1965 | 253,000    | 6.3\n",
              "Alaska | 1966 | 272,000    | 12.9\n",
              "Alaska | 1967 | 272,000    | 9.6\n",
              "Alaska | 1968 | 277,000    | 10.5\n",
              "Alaska | 1969 | 282,000    | 10.6\n",
              "... (2190 rows omitted)"
            ],
            "text/html": [
              "<table border=\"1\" class=\"dataframe\">\n",
              "    <thead>\n",
              "        <tr>\n",
              "            <th>State</th> <th>Year</th> <th>Population</th> <th>Murder Rate</th>\n",
              "        </tr>\n",
              "    </thead>\n",
              "    <tbody>\n",
              "        <tr>\n",
              "            <td>Alaska</td> <td>1960</td> <td>226,167   </td> <td>10.2       </td>\n",
              "        </tr>\n",
              "        <tr>\n",
              "            <td>Alaska</td> <td>1961</td> <td>234,000   </td> <td>11.5       </td>\n",
              "        </tr>\n",
              "        <tr>\n",
              "            <td>Alaska</td> <td>1962</td> <td>246,000   </td> <td>4.5        </td>\n",
              "        </tr>\n",
              "        <tr>\n",
              "            <td>Alaska</td> <td>1963</td> <td>248,000   </td> <td>6.5        </td>\n",
              "        </tr>\n",
              "        <tr>\n",
              "            <td>Alaska</td> <td>1964</td> <td>250,000   </td> <td>10.4       </td>\n",
              "        </tr>\n",
              "        <tr>\n",
              "            <td>Alaska</td> <td>1965</td> <td>253,000   </td> <td>6.3        </td>\n",
              "        </tr>\n",
              "        <tr>\n",
              "            <td>Alaska</td> <td>1966</td> <td>272,000   </td> <td>12.9       </td>\n",
              "        </tr>\n",
              "        <tr>\n",
              "            <td>Alaska</td> <td>1967</td> <td>272,000   </td> <td>9.6        </td>\n",
              "        </tr>\n",
              "        <tr>\n",
              "            <td>Alaska</td> <td>1968</td> <td>277,000   </td> <td>10.5       </td>\n",
              "        </tr>\n",
              "        <tr>\n",
              "            <td>Alaska</td> <td>1969</td> <td>282,000   </td> <td>10.6       </td>\n",
              "        </tr>\n",
              "    </tbody>\n",
              "</table>\n",
              "<p>... (2190 rows omitted)</p>"
            ]
          },
          "metadata": {},
          "execution_count": 96
        }
      ]
    },
    {
      "cell_type": "code",
      "execution_count": 97,
      "metadata": {
        "colab": {
          "base_uri": "https://localhost:8080/",
          "height": 392
        },
        "id": "LUDfBfmBlHzk",
        "outputId": "1c3ca962-2bda-4422-a684-6b2722d63113"
      },
      "outputs": [
        {
          "output_type": "execute_result",
          "data": {
            "text/plain": [
              "Year | Murder rate in Alaska | Murder rate in Minnesota\n",
              "1960 | 10.2                  | 1.2\n",
              "1961 | 11.5                  | 1\n",
              "1962 | 4.5                   | 0.9\n",
              "1963 | 6.5                   | 1.2\n",
              "1964 | 10.4                  | 1.4\n",
              "1965 | 6.3                   | 1.4\n",
              "1966 | 12.9                  | 2.2\n",
              "1967 | 9.6                   | 1.6\n",
              "1968 | 10.5                  | 2.2\n",
              "1969 | 10.6                  | 1.9\n",
              "... (34 rows omitted)"
            ],
            "text/html": [
              "<table border=\"1\" class=\"dataframe\">\n",
              "    <thead>\n",
              "        <tr>\n",
              "            <th>Year</th> <th>Murder rate in Alaska</th> <th>Murder rate in Minnesota</th>\n",
              "        </tr>\n",
              "    </thead>\n",
              "    <tbody>\n",
              "        <tr>\n",
              "            <td>1960</td> <td>10.2                 </td> <td>1.2                     </td>\n",
              "        </tr>\n",
              "        <tr>\n",
              "            <td>1961</td> <td>11.5                 </td> <td>1                       </td>\n",
              "        </tr>\n",
              "        <tr>\n",
              "            <td>1962</td> <td>4.5                  </td> <td>0.9                     </td>\n",
              "        </tr>\n",
              "        <tr>\n",
              "            <td>1963</td> <td>6.5                  </td> <td>1.2                     </td>\n",
              "        </tr>\n",
              "        <tr>\n",
              "            <td>1964</td> <td>10.4                 </td> <td>1.4                     </td>\n",
              "        </tr>\n",
              "        <tr>\n",
              "            <td>1965</td> <td>6.3                  </td> <td>1.4                     </td>\n",
              "        </tr>\n",
              "        <tr>\n",
              "            <td>1966</td> <td>12.9                 </td> <td>2.2                     </td>\n",
              "        </tr>\n",
              "        <tr>\n",
              "            <td>1967</td> <td>9.6                  </td> <td>1.6                     </td>\n",
              "        </tr>\n",
              "        <tr>\n",
              "            <td>1968</td> <td>10.5                 </td> <td>2.2                     </td>\n",
              "        </tr>\n",
              "        <tr>\n",
              "            <td>1969</td> <td>10.6                 </td> <td>1.9                     </td>\n",
              "        </tr>\n",
              "    </tbody>\n",
              "</table>\n",
              "<p>... (34 rows omitted)</p>"
            ]
          },
          "metadata": {},
          "execution_count": 97
        }
      ],
      "source": [
        "# You code here\n",
        "ak = murder_rates.where('State', 'Alaska').drop('State', 'Population').relabeled(1, 'Murder rate in Alaska')\n",
        "mn = murder_rates.where('State', 'Minnesota').drop('State', 'Population').relabeled(1, 'Murder rate in Minnesota')\n",
        "ak_mn = ak.join(\"Year\", mn)\n",
        "ak_mn\n"
      ]
    },
    {
      "cell_type": "code",
      "execution_count": 98,
      "metadata": {
        "colab": {
          "base_uri": "https://localhost:8080/",
          "height": 392
        },
        "id": "7PrunLxdlHzk",
        "outputId": "dab06367-76c6-4690-d6d7-9cf11f14619e"
      },
      "outputs": [
        {
          "output_type": "execute_result",
          "data": {
            "text/plain": [
              "State       | Death Penalty\n",
              "Alabama     | True\n",
              "Alaska      | False\n",
              "Arizona     | True\n",
              "Arkansas    | True\n",
              "California  | True\n",
              "Colorado    | True\n",
              "Connecticut | True\n",
              "Delaware    | True\n",
              "Florida     | True\n",
              "Georgia     | True\n",
              "... (40 rows omitted)"
            ],
            "text/html": [
              "<table border=\"1\" class=\"dataframe\">\n",
              "    <thead>\n",
              "        <tr>\n",
              "            <th>State</th> <th>Death Penalty</th>\n",
              "        </tr>\n",
              "    </thead>\n",
              "    <tbody>\n",
              "        <tr>\n",
              "            <td>Alabama    </td> <td>True         </td>\n",
              "        </tr>\n",
              "        <tr>\n",
              "            <td>Alaska     </td> <td>False        </td>\n",
              "        </tr>\n",
              "        <tr>\n",
              "            <td>Arizona    </td> <td>True         </td>\n",
              "        </tr>\n",
              "        <tr>\n",
              "            <td>Arkansas   </td> <td>True         </td>\n",
              "        </tr>\n",
              "        <tr>\n",
              "            <td>California </td> <td>True         </td>\n",
              "        </tr>\n",
              "        <tr>\n",
              "            <td>Colorado   </td> <td>True         </td>\n",
              "        </tr>\n",
              "        <tr>\n",
              "            <td>Connecticut</td> <td>True         </td>\n",
              "        </tr>\n",
              "        <tr>\n",
              "            <td>Delaware   </td> <td>True         </td>\n",
              "        </tr>\n",
              "        <tr>\n",
              "            <td>Florida    </td> <td>True         </td>\n",
              "        </tr>\n",
              "        <tr>\n",
              "            <td>Georgia    </td> <td>True         </td>\n",
              "        </tr>\n",
              "    </tbody>\n",
              "</table>\n",
              "<p>... (40 rows omitted)</p>"
            ]
          },
          "metadata": {},
          "execution_count": 98
        }
      ],
      "source": [
        "# 1)\n",
        "non_death_penalty_states = make_array('Alaska', 'Hawaii', 'Maine', 'Michigan', 'Wisconsin', 'Minnesota')\n",
        "\n",
        "def had_death_penalty_in_1971(state):\n",
        "#Returns True if the argument is the name of a state that had the death penalty in 1971.\n",
        "# The implementation of this function uses a bit of syntax\n",
        "# we haven't seen before. Just trust that it behaves as its\n",
        "# documentation claims.\n",
        "    return state not in non_death_penalty_states\n",
        "\n",
        "states = murder_rates.group('State').select('State')\n",
        "death_penalty = states.with_column('Death Penalty', states.apply(had_death_penalty_in_1971, 0))\n",
        "death_penalty"
      ]
    },
    {
      "cell_type": "code",
      "source": [
        "preban_rates = murder_rates.where(\"Year\", 1971).join(\"State\", death_penalty.where(\"Death Penalty\", True))\n",
        "preban_rates"
      ],
      "metadata": {
        "colab": {
          "base_uri": "https://localhost:8080/",
          "height": 392
        },
        "id": "-l6RCfuG3QIb",
        "outputId": "93932594-be20-42da-fa92-a929a95c4927"
      },
      "execution_count": 99,
      "outputs": [
        {
          "output_type": "execute_result",
          "data": {
            "text/plain": [
              "State       | Year | Population | Murder Rate | Death Penalty\n",
              "Alabama     | 1971 | 3,479,000  | 15.1        | True\n",
              "Arizona     | 1971 | 1,849,000  | 6.7         | True\n",
              "Arkansas    | 1971 | 1,944,000  | 10.5        | True\n",
              "California  | 1971 | 20,223,000 | 8.1         | True\n",
              "Colorado    | 1971 | 2,283,000  | 6.5         | True\n",
              "Connecticut | 1971 | 3,081,000  | 3.1         | True\n",
              "Delaware    | 1971 | 558,000    | 6.1         | True\n",
              "Florida     | 1971 | 7,041,000  | 13.3        | True\n",
              "Georgia     | 1971 | 4,664,000  | 16          | True\n",
              "Idaho       | 1971 | 732,000    | 3.3         | True\n",
              "... (34 rows omitted)"
            ],
            "text/html": [
              "<table border=\"1\" class=\"dataframe\">\n",
              "    <thead>\n",
              "        <tr>\n",
              "            <th>State</th> <th>Year</th> <th>Population</th> <th>Murder Rate</th> <th>Death Penalty</th>\n",
              "        </tr>\n",
              "    </thead>\n",
              "    <tbody>\n",
              "        <tr>\n",
              "            <td>Alabama    </td> <td>1971</td> <td>3,479,000 </td> <td>15.1       </td> <td>True         </td>\n",
              "        </tr>\n",
              "        <tr>\n",
              "            <td>Arizona    </td> <td>1971</td> <td>1,849,000 </td> <td>6.7        </td> <td>True         </td>\n",
              "        </tr>\n",
              "        <tr>\n",
              "            <td>Arkansas   </td> <td>1971</td> <td>1,944,000 </td> <td>10.5       </td> <td>True         </td>\n",
              "        </tr>\n",
              "        <tr>\n",
              "            <td>California </td> <td>1971</td> <td>20,223,000</td> <td>8.1        </td> <td>True         </td>\n",
              "        </tr>\n",
              "        <tr>\n",
              "            <td>Colorado   </td> <td>1971</td> <td>2,283,000 </td> <td>6.5        </td> <td>True         </td>\n",
              "        </tr>\n",
              "        <tr>\n",
              "            <td>Connecticut</td> <td>1971</td> <td>3,081,000 </td> <td>3.1        </td> <td>True         </td>\n",
              "        </tr>\n",
              "        <tr>\n",
              "            <td>Delaware   </td> <td>1971</td> <td>558,000   </td> <td>6.1        </td> <td>True         </td>\n",
              "        </tr>\n",
              "        <tr>\n",
              "            <td>Florida    </td> <td>1971</td> <td>7,041,000 </td> <td>13.3       </td> <td>True         </td>\n",
              "        </tr>\n",
              "        <tr>\n",
              "            <td>Georgia    </td> <td>1971</td> <td>4,664,000 </td> <td>16         </td> <td>True         </td>\n",
              "        </tr>\n",
              "        <tr>\n",
              "            <td>Idaho      </td> <td>1971</td> <td>732,000   </td> <td>3.3        </td> <td>True         </td>\n",
              "        </tr>\n",
              "    </tbody>\n",
              "</table>\n",
              "<p>... (34 rows omitted)</p>"
            ]
          },
          "metadata": {},
          "execution_count": 99
        }
      ]
    },
    {
      "cell_type": "code",
      "source": [
        "postban_rates = murder_rates.where(\"Year\", 1973).join(\"State\", preban_rates).select(\"State\", \"Year\", \"Population\", \"Murder Rate\")\n",
        "postban_rates = postban_rates.with_column(\"Death Penalty\", False)\n",
        "postban_rates = postban_rates.sort(\"State\")\n",
        "postban_rates"
      ],
      "metadata": {
        "colab": {
          "base_uri": "https://localhost:8080/",
          "height": 392
        },
        "id": "ax4L93I_3Snj",
        "outputId": "0bcbfd18-ccca-431b-d99d-97cb4fa1bd2d"
      },
      "execution_count": 100,
      "outputs": [
        {
          "output_type": "execute_result",
          "data": {
            "text/plain": [
              "State       | Year | Population | Murder Rate | Death Penalty\n",
              "Alabama     | 1973 | 3,539,000  | 13.2        | False\n",
              "Arizona     | 1973 | 2,058,000  | 8.1         | False\n",
              "Arkansas    | 1973 | 2,037,000  | 8.8         | False\n",
              "California  | 1973 | 20,601,000 | 9           | False\n",
              "Colorado    | 1973 | 2,437,000  | 7.9         | False\n",
              "Connecticut | 1973 | 3,076,000  | 3.3         | False\n",
              "Delaware    | 1973 | 576,000    | 5.9         | False\n",
              "Florida     | 1973 | 7,678,000  | 15.4        | False\n",
              "Georgia     | 1973 | 4,786,000  | 17.4        | False\n",
              "Idaho       | 1973 | 770,000    | 2.6         | False\n",
              "... (34 rows omitted)"
            ],
            "text/html": [
              "<table border=\"1\" class=\"dataframe\">\n",
              "    <thead>\n",
              "        <tr>\n",
              "            <th>State</th> <th>Year</th> <th>Population</th> <th>Murder Rate</th> <th>Death Penalty</th>\n",
              "        </tr>\n",
              "    </thead>\n",
              "    <tbody>\n",
              "        <tr>\n",
              "            <td>Alabama    </td> <td>1973</td> <td>3,539,000 </td> <td>13.2       </td> <td>False        </td>\n",
              "        </tr>\n",
              "        <tr>\n",
              "            <td>Arizona    </td> <td>1973</td> <td>2,058,000 </td> <td>8.1        </td> <td>False        </td>\n",
              "        </tr>\n",
              "        <tr>\n",
              "            <td>Arkansas   </td> <td>1973</td> <td>2,037,000 </td> <td>8.8        </td> <td>False        </td>\n",
              "        </tr>\n",
              "        <tr>\n",
              "            <td>California </td> <td>1973</td> <td>20,601,000</td> <td>9          </td> <td>False        </td>\n",
              "        </tr>\n",
              "        <tr>\n",
              "            <td>Colorado   </td> <td>1973</td> <td>2,437,000 </td> <td>7.9        </td> <td>False        </td>\n",
              "        </tr>\n",
              "        <tr>\n",
              "            <td>Connecticut</td> <td>1973</td> <td>3,076,000 </td> <td>3.3        </td> <td>False        </td>\n",
              "        </tr>\n",
              "        <tr>\n",
              "            <td>Delaware   </td> <td>1973</td> <td>576,000   </td> <td>5.9        </td> <td>False        </td>\n",
              "        </tr>\n",
              "        <tr>\n",
              "            <td>Florida    </td> <td>1973</td> <td>7,678,000 </td> <td>15.4       </td> <td>False        </td>\n",
              "        </tr>\n",
              "        <tr>\n",
              "            <td>Georgia    </td> <td>1973</td> <td>4,786,000 </td> <td>17.4       </td> <td>False        </td>\n",
              "        </tr>\n",
              "        <tr>\n",
              "            <td>Idaho      </td> <td>1973</td> <td>770,000   </td> <td>2.6        </td> <td>False        </td>\n",
              "        </tr>\n",
              "    </tbody>\n",
              "</table>\n",
              "<p>... (34 rows omitted)</p>"
            ]
          },
          "metadata": {},
          "execution_count": 100
        }
      ]
    },
    {
      "cell_type": "code",
      "source": [
        "preban_rates_copy = preban_rates.copy()\n",
        "change_in_death_rates = preban_rates_copy.append(postban_rates)\n",
        "change_in_death_rates\n"
      ],
      "metadata": {
        "colab": {
          "base_uri": "https://localhost:8080/",
          "height": 392
        },
        "id": "JO6VyefA3V82",
        "outputId": "6f3813e1-5953-4df0-d518-e059f0621548"
      },
      "execution_count": 101,
      "outputs": [
        {
          "output_type": "execute_result",
          "data": {
            "text/plain": [
              "State       | Year | Population | Murder Rate | Death Penalty\n",
              "Alabama     | 1971 | 3,479,000  | 15.1        | True\n",
              "Arizona     | 1971 | 1,849,000  | 6.7         | True\n",
              "Arkansas    | 1971 | 1,944,000  | 10.5        | True\n",
              "California  | 1971 | 20,223,000 | 8.1         | True\n",
              "Colorado    | 1971 | 2,283,000  | 6.5         | True\n",
              "Connecticut | 1971 | 3,081,000  | 3.1         | True\n",
              "Delaware    | 1971 | 558,000    | 6.1         | True\n",
              "Florida     | 1971 | 7,041,000  | 13.3        | True\n",
              "Georgia     | 1971 | 4,664,000  | 16          | True\n",
              "Idaho       | 1971 | 732,000    | 3.3         | True\n",
              "... (78 rows omitted)"
            ],
            "text/html": [
              "<table border=\"1\" class=\"dataframe\">\n",
              "    <thead>\n",
              "        <tr>\n",
              "            <th>State</th> <th>Year</th> <th>Population</th> <th>Murder Rate</th> <th>Death Penalty</th>\n",
              "        </tr>\n",
              "    </thead>\n",
              "    <tbody>\n",
              "        <tr>\n",
              "            <td>Alabama    </td> <td>1971</td> <td>3,479,000 </td> <td>15.1       </td> <td>True         </td>\n",
              "        </tr>\n",
              "        <tr>\n",
              "            <td>Arizona    </td> <td>1971</td> <td>1,849,000 </td> <td>6.7        </td> <td>True         </td>\n",
              "        </tr>\n",
              "        <tr>\n",
              "            <td>Arkansas   </td> <td>1971</td> <td>1,944,000 </td> <td>10.5       </td> <td>True         </td>\n",
              "        </tr>\n",
              "        <tr>\n",
              "            <td>California </td> <td>1971</td> <td>20,223,000</td> <td>8.1        </td> <td>True         </td>\n",
              "        </tr>\n",
              "        <tr>\n",
              "            <td>Colorado   </td> <td>1971</td> <td>2,283,000 </td> <td>6.5        </td> <td>True         </td>\n",
              "        </tr>\n",
              "        <tr>\n",
              "            <td>Connecticut</td> <td>1971</td> <td>3,081,000 </td> <td>3.1        </td> <td>True         </td>\n",
              "        </tr>\n",
              "        <tr>\n",
              "            <td>Delaware   </td> <td>1971</td> <td>558,000   </td> <td>6.1        </td> <td>True         </td>\n",
              "        </tr>\n",
              "        <tr>\n",
              "            <td>Florida    </td> <td>1971</td> <td>7,041,000 </td> <td>13.3       </td> <td>True         </td>\n",
              "        </tr>\n",
              "        <tr>\n",
              "            <td>Georgia    </td> <td>1971</td> <td>4,664,000 </td> <td>16         </td> <td>True         </td>\n",
              "        </tr>\n",
              "        <tr>\n",
              "            <td>Idaho      </td> <td>1971</td> <td>732,000   </td> <td>3.3        </td> <td>True         </td>\n",
              "        </tr>\n",
              "    </tbody>\n",
              "</table>\n",
              "<p>... (78 rows omitted)</p>"
            ]
          },
          "metadata": {},
          "execution_count": 101
        }
      ]
    },
    {
      "cell_type": "code",
      "source": [
        "change_in_death_rates.hist('Murder Rate', group = 'Death Penalty')"
      ],
      "metadata": {
        "colab": {
          "base_uri": "https://localhost:8080/",
          "height": 265
        },
        "id": "wQlFJHLt3Z71",
        "outputId": "7d2c2b5a-b28d-4df1-e171-1e9b1c6da801"
      },
      "execution_count": 102,
      "outputs": [
        {
          "output_type": "display_data",
          "data": {
            "text/plain": [
              "<Figure size 432x288 with 1 Axes>"
            ],
            "image/png": "[encoded data removed]"
          },
          "metadata": {
            "needs_background": "light"
          }
        }
      ]
    },
    {
      "cell_type": "code",
      "source": [
        "new_table = change_in_death_rates.group(\"Death Penalty\", np.average)\n",
        "rate_means = new_table.select(\"Death Penalty\", \"Murder Rate average\")\n",
        "rate_means"
      ],
      "metadata": {
        "colab": {
          "base_uri": "https://localhost:8080/",
          "height": 112
        },
        "id": "W5ZE_EE43dBX",
        "outputId": "bd7fed7e-b4e2-48c3-cdbc-b84045ac37b9"
      },
      "execution_count": 103,
      "outputs": [
        {
          "output_type": "execute_result",
          "data": {
            "text/plain": [
              "Death Penalty | Murder Rate average\n",
              "False         | 8.12045\n",
              "True          | 7.51364"
            ],
            "text/html": [
              "<table border=\"1\" class=\"dataframe\">\n",
              "    <thead>\n",
              "        <tr>\n",
              "            <th>Death Penalty</th> <th>Murder Rate average</th>\n",
              "        </tr>\n",
              "    </thead>\n",
              "    <tbody>\n",
              "        <tr>\n",
              "            <td>False        </td> <td>8.12045            </td>\n",
              "        </tr>\n",
              "        <tr>\n",
              "            <td>True         </td> <td>7.51364            </td>\n",
              "        </tr>\n",
              "    </tbody>\n",
              "</table>"
            ]
          },
          "metadata": {},
          "execution_count": 103
        }
      ]
    },
    {
      "cell_type": "code",
      "source": [
        "# 2(2-1)\n",
        "observed_difference = rate_means.column(\"Murder Rate average\").item(0) - rate_means.column(\"Murder Rate average\").item(1)\n",
        "observed_difference"
      ],
      "metadata": {
        "colab": {
          "base_uri": "https://localhost:8080/"
        },
        "id": "ufo5I2uU3fcz",
        "outputId": "e27c83f9-de96-44ce-8d2c-97653695ce16"
      },
      "execution_count": 104,
      "outputs": [
        {
          "output_type": "execute_result",
          "data": {
            "text/plain": [
              "0.6068181600659095"
            ]
          },
          "metadata": {},
          "execution_count": 104
        }
      ]
    },
    {
      "cell_type": "code",
      "source": [
        " #2(2-2)\n",
        "def find_test_stat(table, label, group_label):\n",
        "   new_table = table.group(group_label, np.average)\n",
        "   return new_table.column(label + \" average\").item(0) - new_table.column(label + \" average\").item(1)\n",
        "\n",
        "find_test_stat(change_in_death_rates, \"Murder Rate\", \"Death Penalty\")"
      ],
      "metadata": {
        "colab": {
          "base_uri": "https://localhost:8080/"
        },
        "id": "fZYxtS0G3iMB",
        "outputId": "039aeb81-de81-4431-d470-ab46b7d82ea0"
      },
      "execution_count": 105,
      "outputs": [
        {
          "output_type": "execute_result",
          "data": {
            "text/plain": [
              "0.6068181600659095"
            ]
          },
          "metadata": {},
          "execution_count": 105
        }
      ]
    },
    {
      "cell_type": "code",
      "source": [
        " #2(2-3)\n",
        "def simulate_and_test_statistic(table, label, group_label):\n",
        "  shuffled_column = table.sample(with_replacement = False).column(group_label)\n",
        "  new_table = table.drop(group_label).with_column(\"shuffled label\", shuffled_column)\n",
        "  return find_test_stat(new_table, label, \"shuffled label\")\n",
        "\n",
        "simulate_and_test_statistic(change_in_death_rates, \"Murder Rate\", \"Death Penalty\")"
      ],
      "metadata": {
        "colab": {
          "base_uri": "https://localhost:8080/"
        },
        "id": "eJNcxrgz3lfg",
        "outputId": "83ecde84-4574-4bea-ea8e-c7c71ab999bd"
      },
      "execution_count": 119,
      "outputs": [
        {
          "output_type": "execute_result",
          "data": {
            "text/plain": [
              "2.7022727551113643"
            ]
          },
          "metadata": {},
          "execution_count": 119
        }
      ]
    },
    {
      "cell_type": "code",
      "source": [
        "#2(2-4)\n",
        "import numpy as np\n",
        "differences = make_array()\n",
        "\n",
        "for i in np.arange(5000):\n",
        "    test = simulate_and_test_statistic(change_in_death_rates, \"Murder Rate\", \"Death Penalty\")\n",
        "    differences = np.append(differences, test)\n",
        "\n",
        "differences"
      ],
      "metadata": {
        "colab": {
          "base_uri": "https://localhost:8080/"
        },
        "id": "55BHU0h73qIE",
        "outputId": "8b28289d-2fd4-49a1-868e-6ee50f61db96"
      },
      "execution_count": 122,
      "outputs": [
        {
          "output_type": "execute_result",
          "data": {
            "text/plain": [
              "array([ 0.43409087, -0.00227271, -0.57500004, ...,  0.47045456,\n",
              "        1.59318181,  1.27045449])"
            ]
          },
          "metadata": {},
          "execution_count": 122
        }
      ]
    },
    {
      "cell_type": "code",
      "source": [
        "#2(2-5)\n",
        "empirical_P = sum(differences >= observed_difference) / len(differences)\n",
        "empirical_P"
      ],
      "metadata": {
        "colab": {
          "base_uri": "https://localhost:8080/"
        },
        "id": "5Oj4RmMn3s_B",
        "outputId": "c64afbe7-0aff-4d40-ffc0-340d3cd83e86"
      },
      "execution_count": 123,
      "outputs": [
        {
          "output_type": "execute_result",
          "data": {
            "text/plain": [
              "0.2402"
            ]
          },
          "metadata": {},
          "execution_count": 123
        }
      ]
    },
    {
      "cell_type": "code",
      "source": [
        "#2(2-6)\n",
        "\"\"\" I've deduced from the preceding code that the data is more consistent with the null hypothesis, implying that the rate of murder does not differ much with and without the death penalty.\"\"\""
      ],
      "metadata": {
        "id": "lmi2O8Bw3wB_"
      },
      "execution_count": null,
      "outputs": []
    }
  ],
  "metadata": {
    "kernelspec": {
      "display_name": "Python 3",
      "language": "python",
      "name": "python3"
    },
    "language_info": {
      "codemirror_mode": {
        "name": "ipython",
        "version": 3
      },
      "file_extension": ".py",
      "mimetype": "text/x-python",
      "name": "python",
      "nbconvert_exporter": "python",
      "pygments_lexer": "ipython3",
      "version": "3.8.5"
    },
    "colab": {
      "name": "lab_assignment_09.ipynb",
      "provenance": [],
      "include_colab_link": true
    }
  },
  "nbformat": 4,
  "nbformat_minor": 0
}