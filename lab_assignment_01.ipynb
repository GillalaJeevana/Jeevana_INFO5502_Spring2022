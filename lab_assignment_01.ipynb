{
  "cells": [
    {
      "cell_type": "markdown",
      "metadata": {
        "id": "view-in-github",
        "colab_type": "text"
      },
      "source": [
        "<a href=\"https://colab.research.google.com/github/GillalaJeevana/Jeevana_INFO5502_Spring2022/blob/main/lab_assignment_01.ipynb\" target=\"_parent\"><img src=\"https://colab.research.google.com/assets/colab-badge.svg\" alt=\"Open In Colab\"/></a>"
      ]
    },
    {
      "cell_type": "markdown",
      "metadata": {
        "id": "DymRJbxDBCnf"
      },
      "source": [
        "# **The first Lab-assignment (01/25/2022, 50 points in total)**"
      ]
    },
    {
      "cell_type": "markdown",
      "metadata": {
        "id": "jJDe71iLB616"
      },
      "source": [
        "(1) Write a Python program to count the number of characters in a string. (5 points)\n",
        "\n",
        "Sample String : 'google.com', \n",
        "\n",
        "Expected Result : {'o': 3, 'g': 2, '.': 1, 'e': 1, 'l': 1, 'm': 1, 'c': 1}"
      ]
    },
    {
      "cell_type": "code",
      "execution_count": 14,
      "metadata": {
        "colab": {
          "base_uri": "https://localhost:8080/"
        },
        "id": "MtKskTzbCLaU",
        "outputId": "e53ac774-8f9d-4e04-d138-79d3e227225a"
      },
      "outputs": [
        {
          "output_type": "stream",
          "name": "stdout",
          "text": [
            "enter the stringjeevana\n",
            "{'e': 2, 'a': 2, 'j': 1, 'v': 1, 'n': 1}\n"
          ]
        }
      ],
      "source": [
        "# write your answer here\n",
        "def variablecount(str1):\n",
        "\n",
        " di={}\n",
        " for n in str1:\n",
        "        k = di.keys()\n",
        "        if n in k:\n",
        "            di[n] += 1\n",
        "        else:\n",
        "            di[n] = 1\n",
        " \n",
        " #print(dict)\n",
        " \n",
        " #print(a)\n",
        " \n",
        " \n",
        " sorted_count=dict(sorted(di.items(),key = lambda ks: -ks[1]))\n",
        " print(sorted_count)\n",
        " \n",
        "str2= input(\"enter the string\")\n",
        "variablecount(str2) "
      ]
    },
    {
      "cell_type": "markdown",
      "metadata": {
        "id": "55W9AMdXCSpV"
      },
      "source": [
        "(2) Write a Python program to sum all the items in a list. (5 points)"
      ]
    },
    {
      "cell_type": "code",
      "execution_count": 15,
      "metadata": {
        "colab": {
          "base_uri": "https://localhost:8080/"
        },
        "id": "I57NXsauCec2",
        "outputId": "c7406c16-3221-43dd-8a93-fcc04747faaa"
      },
      "outputs": [
        {
          "output_type": "stream",
          "name": "stdout",
          "text": [
            "-7\n"
          ]
        }
      ],
      "source": [
        "# write your answer here\n",
        "# write your answer here\n",
        "def sum(items):\n",
        "    sum_num = 0\n",
        "    for i in items:\n",
        "        sum_num += i\n",
        "    return sum_num\n",
        "print(sum([+0,-7,0]))\n"
      ]
    },
    {
      "cell_type": "markdown",
      "metadata": {
        "id": "4ulBZ6yhCi9F"
      },
      "source": [
        "(3) Write a Python program to get a string from a given string where all occurrences of its first char have been changed to '\\$', except the first char itself. (5 points)\n",
        "\n",
        "Sample String : 'restart', \n",
        "\n",
        "Expected Result : 'resta\\$t'"
      ]
    },
    {
      "cell_type": "code",
      "execution_count": 16,
      "metadata": {
        "colab": {
          "base_uri": "https://localhost:8080/"
        },
        "id": "Fj0XhwbBCw2o",
        "outputId": "1849f382-6c19-4714-b523-39f673fd3921"
      },
      "outputs": [
        {
          "output_type": "stream",
          "name": "stdout",
          "text": [
            "kr$$$$ac$$\n"
          ]
        }
      ],
      "source": [
        "\n",
        "\n",
        "# write your answer here\n",
        "def char(str):\n",
        "  x = str[0]\n",
        "  str = str.replace(x , '$')\n",
        "  str = x + str[1:]\n",
        "\n",
        "  return str\n",
        "\n",
        "print(char(\"krkkkkackk\"))\n"
      ]
    },
    {
      "cell_type": "markdown",
      "metadata": {
        "id": "_bIP7s1MCzue"
      },
      "source": [
        "(4) Write a program with python which could accept two parameter a and b to calculate and output the result of S, where \n",
        "\n",
        "$\\ S=3.14*(1+a/b)^3$ (5 points)\n",
        "\n"
      ]
    },
    {
      "cell_type": "code",
      "execution_count": 17,
      "metadata": {
        "colab": {
          "base_uri": "https://localhost:8080/"
        },
        "id": "w79QilHXD3Mg",
        "outputId": "9397204a-51d5-48a6-e07c-6474a0a696af"
      },
      "outputs": [
        {
          "output_type": "stream",
          "name": "stdout",
          "text": [
            "enter first parameter:2\n",
            "enter second parameter3\n",
            "The result of S = 14.537037037037033\n"
          ]
        }
      ],
      "source": [
        "# write your answer here\n",
        "# write your answer here\n",
        "\n",
        "\n",
        "def cube(number):\n",
        "    return number * number * number\n",
        "    \n",
        "a = float(input(\"enter first parameter:\"))\n",
        "b = float(input(\"enter second parameter\"))\n",
        "number =(1 + a/b)\n",
        "cub = cube(number)\n",
        "s = 3.14 * cub\n",
        "print(\"The result of S =\", s)"
      ]
    },
    {
      "cell_type": "markdown",
      "metadata": {
        "id": "xCa2bK9aD4Q3"
      },
      "source": [
        "(5) Write a Python program to concatenate following dictionaries to create a new one. (5 points)\n",
        "\n",
        "Sample Dictionary : dic1={1:10, 2:20}, dic2={3:30, 4:40}, dic3={5:50,6:60}, \n",
        "\n",
        "Expected Result : {1: 10, 2: 20, 3: 30, 4: 40, 5: 50, 6: 60}\n"
      ]
    },
    {
      "cell_type": "code",
      "execution_count": 18,
      "metadata": {
        "colab": {
          "base_uri": "https://localhost:8080/"
        },
        "id": "_z4aLqAbEET1",
        "outputId": "47adab82-418d-483b-9549-10fe52187a1b"
      },
      "outputs": [
        {
          "output_type": "stream",
          "name": "stdout",
          "text": [
            "{1: 10, 2: 20, 3: 30, 4: 40, 5: 50, 6: 60, 7: 70}\n"
          ]
        }
      ],
      "source": [
        "# write your answer here\n",
        "# write your answer here\n",
        "d1={1:10, 2:20}  \n",
        "d2={3:30, 4:40}  \n",
        "d3={3:30,5:50} \n",
        "d4={6:60,7:70} \n",
        "d5 = {}  \n",
        "for i in (d1, d2, d3, d4): d5.update(i)  \n",
        "print(d5) \n"
      ]
    },
    {
      "cell_type": "markdown",
      "metadata": {
        "id": "0v48Vqa7FrQh"
      },
      "source": [
        "(6) Write a Python program to check whether an element exists within a tuple. (5 points)"
      ]
    },
    {
      "cell_type": "code",
      "execution_count": 19,
      "metadata": {
        "colab": {
          "base_uri": "https://localhost:8080/"
        },
        "id": "7WEmgq-DF2P1",
        "outputId": "f1de41fb-bbbd-4323-933b-a6dbb25e9798"
      },
      "outputs": [
        {
          "output_type": "stream",
          "name": "stdout",
          "text": [
            "enter tuple to searchjeevana, Gillala\n",
            "enter element to searchilla\n",
            "element present\n"
          ]
        }
      ],
      "source": [
        "# write your answer here\n",
        "a=input(\"enter tuple to search\")\n",
        "b= input(\"enter element to search\")\n",
        "#print(tuple(t.split()))\n",
        "if(b in a):\n",
        "  print(\"element present\")\n",
        "else:\n",
        "  print(\"not present\")\n"
      ]
    },
    {
      "cell_type": "markdown",
      "metadata": {
        "id": "vD5PYLMuGga_"
      },
      "source": [
        "(7) Write a Python program to find maximum and the minimum value in a set. (5 points)"
      ]
    },
    {
      "cell_type": "code",
      "execution_count": 20,
      "metadata": {
        "colab": {
          "base_uri": "https://localhost:8080/"
        },
        "id": "t0D5kdJUGjjw",
        "outputId": "89007188-ecb5-42ca-ffdd-f8064d42b52a"
      },
      "outputs": [
        {
          "output_type": "stream",
          "name": "stdout",
          "text": [
            "Enter the numbers separated by space to find minimum and maximum300 400 40 30 500\n",
            "min is  30\n",
            "max is  500\n"
          ]
        }
      ],
      "source": [
        "# write your answer here\n",
        "x=input(\"Enter the numbers separated by space to find minimum and maximum\")\n",
        "y=[int(y) for y in x.split(\" \")]\n",
        "print (\"min is \",min(y))\n",
        "print (\"max is \",max(y))\n"
      ]
    },
    {
      "cell_type": "markdown",
      "metadata": {
        "id": "uHkd-y5VhVWC"
      },
      "source": [
        "(8) Write a Python program to randomly divide the students in this class into six groups for term projects, each group should have at least 4 students but no more than 6 students (including 6). Here is the students list: (5 points)\n",
        "\n",
        "studnet_list = ['ja0964','sa1198','sb1357','vb0218','sc1229','kg0569','kg0470','sg1297','bg0320','fh0141','jl1252','sk1386',\n",
        "           'ak0956','sk1390','sk1458','sk1313','ak0934','vm0377','nm0618','sm1640','sm1907','gn0108','pr0353','dr0609','ms1500','aos0040','ds0814', 'av0659','nv0234','hy0232']"
      ]
    },
    {
      "cell_type": "code",
      "execution_count": 21,
      "metadata": {
        "colab": {
          "base_uri": "https://localhost:8080/"
        },
        "id": "3iGbmcOBhTwy",
        "outputId": "eb781e3f-492c-429f-eb93-d3ec8c5c7868"
      },
      "outputs": [
        {
          "output_type": "stream",
          "name": "stdout",
          "text": [
            "['ms1500', 'sm1907', 'vm0377', 'sb1357']\n",
            "['ds0814', 'jl1252', 'sk1458', 'kg0470', 'dr0609', 'nv0234']\n",
            "['aos0040', 'kg0569', 'ja0964', 'ak0934', 'ak0956']\n",
            "['sk1390', 'vb0218', 'hy0232', 'sk1386', 'sc1229', 'sa1198']\n",
            "['sg1297', 'gn0108', 'av0659', 'nm0618']\n",
            "['sm1640', 'sk1313', 'fh0141', 'pr0353', 'bg0320']\n"
          ]
        }
      ],
      "source": [
        "# write your answer here\n",
        "# write your answer here\n",
        "import numpy as np, random\n",
        "studnet_list = ['ja0964','sa1198','sb1357','vb0218','sc1229','kg0569','kg0470','sg1297','bg0320','fh0141','jl1252','sk1386', 'ak0956','sk1390','sk1458','sk1313','ak0934','vm0377','nm0618','sm1640','sm1907','gn0108','pr0353','dr0609','ms1500','aos0040','ds0814', 'av0659','nv0234','hy0232']\n",
        "\n",
        "\n",
        "len_g =[4,6,5,6,4,5]\n",
        "rslt = []\n",
        "for l in len_g:\n",
        " \n",
        "  grp = random.sample(studnet_list, l)\n",
        "\n",
        "  studnet_list = list(set(studnet_list) ^ set(grp))\n",
        "  rslt = rslt + [grp]\n",
        "\n",
        "for r in rslt:\n",
        "    print(r, end= '\\n')\n"
      ]
    },
    {
      "cell_type": "markdown",
      "metadata": {
        "id": "HzDpyYN-h3B2"
      },
      "source": [
        "(9) Write a Python program to find the duplicate elements in a given array of integers. Return -1 If there are no such elements. (5 points)"
      ]
    },
    {
      "cell_type": "code",
      "execution_count": 22,
      "metadata": {
        "colab": {
          "base_uri": "https://localhost:8080/"
        },
        "id": "HiOdnT2jh3B2",
        "outputId": "2041bf5f-9fa5-4eff-a445-235edea22d21"
      },
      "outputs": [
        {
          "output_type": "stream",
          "name": "stdout",
          "text": [
            "2\n",
            "3\n",
            "8\n"
          ]
        }
      ],
      "source": [
        "# write your answer here\n",
        "arr= [1, 2, 3, 4, 2, 7, 8, 8, 3];   \n",
        "flag=0;   \n",
        "for a in range(0, len(arr)):    \n",
        "    for b in range(a+1, len(arr)):    \n",
        "        if(arr[a] == arr[b]):   \n",
        "           flag = 1 \n",
        "           print(arr[b]);    \n",
        "if flag == 0:\n",
        "  print(\"-1\")"
      ]
    },
    {
      "cell_type": "markdown",
      "metadata": {
        "id": "lOzLcfU_h3B2"
      },
      "source": [
        "(10) Write a Python program to select all the Sundays of a specified year. (5 extra points)"
      ]
    },
    {
      "cell_type": "code",
      "execution_count": 23,
      "metadata": {
        "colab": {
          "base_uri": "https://localhost:8080/"
        },
        "id": "gBPTdvX_h3B2",
        "outputId": "4c7f2359-8eba-470d-85a0-5dbfbf025d9c"
      },
      "outputs": [
        {
          "name": "stdout",
          "output_type": "stream",
          "text": [
            "Enter the year you want to get Sundays of: 2021\n"
          ]
        },
        {
          "output_type": "execute_result",
          "data": {
            "text/plain": [
              "['03-January-2021',\n",
              " '10-January-2021',\n",
              " '17-January-2021',\n",
              " '24-January-2021',\n",
              " '31-January-2021',\n",
              " '07-February-2021',\n",
              " '14-February-2021',\n",
              " '21-February-2021',\n",
              " '28-February-2021',\n",
              " '07-March-2021',\n",
              " '14-March-2021',\n",
              " '21-March-2021',\n",
              " '28-March-2021',\n",
              " '04-April-2021',\n",
              " '11-April-2021',\n",
              " '18-April-2021',\n",
              " '25-April-2021',\n",
              " '02-May-2021',\n",
              " '09-May-2021',\n",
              " '16-May-2021',\n",
              " '23-May-2021',\n",
              " '30-May-2021',\n",
              " '06-June-2021',\n",
              " '13-June-2021',\n",
              " '20-June-2021',\n",
              " '27-June-2021',\n",
              " '04-July-2021',\n",
              " '11-July-2021',\n",
              " '18-July-2021',\n",
              " '25-July-2021',\n",
              " '01-August-2021',\n",
              " '08-August-2021',\n",
              " '15-August-2021',\n",
              " '22-August-2021',\n",
              " '29-August-2021',\n",
              " '05-September-2021',\n",
              " '12-September-2021',\n",
              " '19-September-2021',\n",
              " '26-September-2021',\n",
              " '03-October-2021',\n",
              " '10-October-2021',\n",
              " '17-October-2021',\n",
              " '24-October-2021',\n",
              " '31-October-2021',\n",
              " '07-November-2021',\n",
              " '14-November-2021',\n",
              " '21-November-2021',\n",
              " '28-November-2021',\n",
              " '05-December-2021',\n",
              " '12-December-2021',\n",
              " '19-December-2021',\n",
              " '26-December-2021']"
            ]
          },
          "metadata": {},
          "execution_count": 23
        }
      ],
      "source": [
        "# write your answer here\n",
        "import pandas as pn\n",
        "\n",
        "def a_sund(year):\n",
        "  return pn.date_range(start=str(year), end=str(year+1), freq='W-SUN').strftime('%d-%B-%Y').tolist()\n",
        "\n",
        "year = int(input(\"Enter the year you want to get Sundays of: \"))\n",
        "a_sund(year)"
      ]
    }
  ],
  "metadata": {
    "colab": {
      "collapsed_sections": [],
      "name": "lab_assignment_01.ipynb",
      "provenance": [],
      "include_colab_link": true
    },
    "kernelspec": {
      "display_name": "Python 3",
      "language": "python",
      "name": "python3"
    },
    "language_info": {
      "codemirror_mode": {
        "name": "ipython",
        "version": 3
      },
      "file_extension": ".py",
      "mimetype": "text/x-python",
      "name": "python",
      "nbconvert_exporter": "python",
      "pygments_lexer": "ipython3",
      "version": "3.8.5"
    }
  },
  "nbformat": 4,
  "nbformat_minor": 0
}