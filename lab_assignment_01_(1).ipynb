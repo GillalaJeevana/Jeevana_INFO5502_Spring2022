{
  "cells": [
    {
      "cell_type": "markdown",
      "metadata": {
        "id": "view-in-github",
        "colab_type": "text"
      },
      "source": [
        "<a href=\"https://colab.research.google.com/github/GillalaJeevana/Jeevana_INFO5502_Spring2022/blob/main/lab_assignment_01_(1).ipynb\" target=\"_parent\"><img src=\"https://colab.research.google.com/assets/colab-badge.svg\" alt=\"Open In Colab\"/></a>"
      ]
    },
    {
      "cell_type": "markdown",
      "metadata": {
        "id": "DymRJbxDBCnf"
      },
      "source": [
        "# **The first Lab-assignment (01/25/2022, 50 points in total)**"
      ]
    },
    {
      "cell_type": "markdown",
      "metadata": {
        "id": "jJDe71iLB616"
      },
      "source": [
        "(1) Write a Python program to count the number of characters in a string. (5 points)\n",
        "\n",
        "Sample String : 'google.com', \n",
        "\n",
        "Expected Result : {'o': 3, 'g': 2, '.': 1, 'e': 1, 'l': 1, 'm': 1, 'c': 1}"
      ]
    },
    {
      "cell_type": "code",
      "execution_count": 23,
      "metadata": {
        "colab": {
          "base_uri": "https://localhost:8080/"
        },
        "id": "MtKskTzbCLaU",
        "outputId": "a25c47a1-502d-4feb-e8da-2bcf996a307f"
      },
      "outputs": [
        {
          "output_type": "stream",
          "name": "stdout",
          "text": [
            "enter a string :jeevs\n",
            "Total number of charactes in the string :  5\n"
          ]
        }
      ],
      "source": [
        "# write your answer here\n",
        "string1 = input(\"enter a string :\")\n",
        "count = 0\n",
        "for i in string1:\n",
        "  count = count + 1\n",
        "\n",
        "print(\"Total number of charactes in the string : \", count)\n",
        "\n"
      ]
    },
    {
      "cell_type": "markdown",
      "metadata": {
        "id": "55W9AMdXCSpV"
      },
      "source": [
        "(2) Write a Python program to sum all the items in a list. (5 points)"
      ]
    },
    {
      "cell_type": "code",
      "execution_count": null,
      "metadata": {
        "colab": {
          "base_uri": "https://localhost:8080/"
        },
        "id": "I57NXsauCec2",
        "outputId": "a2e1732e-7424-4ff4-9a16-e45265ea6546"
      },
      "outputs": [
        {
          "output_type": "stream",
          "name": "stdout",
          "text": [
            "0\n"
          ]
        }
      ],
      "source": [
        "# write your answer here\n",
        "def sum(items):\n",
        "    sum_num = 0\n",
        "    for i in items:\n",
        "        sum_num += i\n",
        "    return sum_num\n",
        "print(sum([+7,-7,0]))\n",
        "\n"
      ]
    },
    {
      "cell_type": "markdown",
      "metadata": {
        "id": "4ulBZ6yhCi9F"
      },
      "source": [
        "(3) Write a Python program to get a string from a given string where all occurrences of its first char have been changed to '\\$', except the first char itself. (5 points)\n",
        "\n",
        "Sample String : 'restart', \n",
        "\n",
        "Expected Result : 'resta\\$t'"
      ]
    },
    {
      "cell_type": "code",
      "execution_count": null,
      "metadata": {
        "colab": {
          "base_uri": "https://localhost:8080/"
        },
        "id": "Fj0XhwbBCw2o",
        "outputId": "7b5729ac-41db-4165-9dac-7a66bce1fd78"
      },
      "outputs": [
        {
          "output_type": "stream",
          "name": "stdout",
          "text": [
            "kr$$ac$$\n"
          ]
        }
      ],
      "source": [
        "# write your answer here\n",
        "def char(str):\n",
        "  x = str[0]\n",
        "  str = str.replace(x , '$')\n",
        "  str = x + str[1:]\n",
        "\n",
        "  return str\n",
        "\n",
        "print(char(\"krkkackk\"))"
      ]
    },
    {
      "cell_type": "markdown",
      "metadata": {
        "id": "_bIP7s1MCzue"
      },
      "source": [
        "(4) Write a program with python which could accept two parameter a and b to calculate and output the result of S, where \n",
        "\n",
        "$\\ S=3.14*(1+a/b)^3$ (5 points)\n",
        "\n"
      ]
    },
    {
      "cell_type": "code",
      "execution_count": null,
      "metadata": {
        "colab": {
          "base_uri": "https://localhost:8080/"
        },
        "id": "w79QilHXD3Mg",
        "outputId": "e7c2e4b3-fc8a-4b98-ae0a-6724ab756954"
      },
      "outputs": [
        {
          "output_type": "stream",
          "name": "stdout",
          "text": [
            "enter first parameter:4\n",
            "enter second parameter2\n",
            "The result of S = 84.78\n"
          ]
        }
      ],
      "source": [
        "# write your answer here\n",
        "\n",
        "\n",
        "def cube(number):\n",
        "    return number * number * number\n",
        "    \n",
        "a = float(input(\"enter first parameter:\"))\n",
        "b = float(input(\"enter second parameter\"))\n",
        "number =(1 + a/b)\n",
        "cub = cube(number)\n",
        "s = 3.14 * cub\n",
        "print(\"The result of S =\", s)"
      ]
    },
    {
      "cell_type": "markdown",
      "metadata": {
        "id": "xCa2bK9aD4Q3"
      },
      "source": [
        "(5) Write a Python program to concatenate following dictionaries to create a new one. (5 points)\n",
        "\n",
        "Sample Dictionary : dic1={1:10, 2:20}, dic2={3:30, 4:40}, dic3={5:50,6:60}, \n",
        "\n",
        "Expected Result : {1: 10, 2: 20, 3: 30, 4: 40, 5: 50, 6: 60}\n"
      ]
    },
    {
      "cell_type": "code",
      "execution_count": null,
      "metadata": {
        "id": "_z4aLqAbEET1",
        "colab": {
          "base_uri": "https://localhost:8080/"
        },
        "outputId": "2ec66fa2-6870-437d-ef20-c0f7bee878a7"
      },
      "outputs": [
        {
          "output_type": "stream",
          "name": "stdout",
          "text": [
            "{1: 10, 2: 20, 3: 30, 4: 40, 5: 50, 6: 60, 7: 70}\n"
          ]
        }
      ],
      "source": [
        "# write your answer here\n",
        "d1={1:10, 2:20}  \n",
        "d2={3:30, 4:40}  \n",
        "d3={3:30,5:50} \n",
        "d4={6:60,7:70} \n",
        "d5 = {}  \n",
        "for i in (d1, d2, d3, d4): d5.update(i)  \n",
        "print(d5) "
      ]
    },
    {
      "cell_type": "markdown",
      "metadata": {
        "id": "0v48Vqa7FrQh"
      },
      "source": [
        "(6) Write a Python program to check whether an element exists within a tuple. (5 points)"
      ]
    },
    {
      "cell_type": "code",
      "execution_count": null,
      "metadata": {
        "id": "7WEmgq-DF2P1",
        "colab": {
          "base_uri": "https://localhost:8080/"
        },
        "outputId": "3a88c980-ec6e-4d3e-ae37-f9196bb0b625"
      },
      "outputs": [
        {
          "output_type": "stream",
          "name": "stdout",
          "text": [
            "Enter the element to find : 44\n",
            "44 does not exist in the tuple\n"
          ]
        }
      ],
      "source": [
        "# write your answer here\n",
        "\n",
        "Tuple1 = (4, 6, 8, 11, 22, 43, 58, 99, 16)\n",
        "num1 = int(input(\"Enter the element to find : \"))\n",
        "\n",
        "if num1 in Tuple1:\n",
        "    print(num1, \" exists in the tuple\")\n",
        "else:\n",
        "    print(num1,\"does not exist in the tuple\")"
      ]
    },
    {
      "cell_type": "markdown",
      "metadata": {
        "id": "vD5PYLMuGga_"
      },
      "source": [
        "(7) Write a Python program to find maximum and the minimum value in a set. (5 points)"
      ]
    },
    {
      "cell_type": "code",
      "execution_count": null,
      "metadata": {
        "colab": {
          "base_uri": "https://localhost:8080/"
        },
        "id": "t0D5kdJUGjjw",
        "outputId": "f9a6e54a-73e7-4149-9ed2-958a7b928ee4"
      },
      "outputs": [
        {
          "output_type": "stream",
          "name": "stdout",
          "text": [
            "The maximum value in a set is : 80\n",
            "The minimum value in a set is : 3\n"
          ]
        }
      ],
      "source": [
        "# write your answer here\n",
        "def MAXIMUM(sets):\n",
        "    return (max(sets))\n",
        "def MINIMUM(sets):\n",
        "    return(min(sets))\n",
        "      \n",
        "# Driver Code\n",
        "sets = list([70, 16, 24, 80, 25, 3, 10, 65, 55, 3])\n",
        "print(\"The maximum value in a set is :\" ,MAXIMUM(sets))\n",
        "print(\"The minimum value in a set is :\" ,MINIMUM(sets))"
      ]
    },
    {
      "cell_type": "markdown",
      "metadata": {
        "id": "uHkd-y5VhVWC"
      },
      "source": [
        "(8) Write a Python program to randomly divide the students in this class into six groups for term projects, each group should have at least 4 students but no more than 6 students (including 6). Here is the students list: (5 points)\n",
        "\n",
        "studnet_list = ['ja0964','sa1198','sb1357','vb0218','sc1229','kg0569','kg0470','sg1297','bg0320','fh0141','jl1252','sk1386',\n",
        "           'ak0956','sk1390','sk1458','sk1313','ak0934','vm0377','nm0618','sm1640','sm1907','gn0108','pr0353','dr0609','ms1500','aos0040','ds0814', 'av0659','nv0234','hy0232']"
      ]
    },
    {
      "cell_type": "code",
      "execution_count": 8,
      "metadata": {
        "id": "3iGbmcOBhTwy",
        "colab": {
          "base_uri": "https://localhost:8080/"
        },
        "outputId": "bcf303de-7d31-4f5c-d104-85d77b33e39e"
      },
      "outputs": [
        {
          "output_type": "stream",
          "name": "stdout",
          "text": [
            "['gn0108', 'hy0232', 'jl1252', 'sk1313']\n",
            "['aos0040', 'kg0470', 'sc1229', 'sg1297']\n",
            "['ds0814', 'dr0609', 'ak0956', 'ja0964', 'vb0218']\n",
            "['ms1500', 'nv0234', 'sb1357', 'fh0141', 'nm0618', 'sk1390']\n",
            "['sm1640', 'sa1198', 'sm1907', 'kg0569', 'bg0320']\n",
            "['sk1386', 'av0659', 'vm0377', 'ak0934', 'sk1458', 'pr0353']\n"
          ]
        }
      ],
      "source": [
        "# write your answer here\n",
        "\n",
        "import numpy as np, random\n",
        "stu_list = ['ja0964','sa1198','sb1357','vb0218','sc1229','kg0569','kg0470','sg1297','bg0320','fh0141','jl1252','sk1386', 'ak0956','sk1390','sk1458','sk1313','ak0934','vm0377','nm0618','sm1640','sm1907','gn0108','pr0353','dr0609','ms1500','aos0040','ds0814', 'av0659','nv0234','hy0232']\n",
        "\n",
        "# the len_group numbers sum upto 30\n",
        "len_grp =[4, 4, 5, 6, 5, 6]\n",
        "res = []\n",
        "for len in len_grp:\n",
        "  # generating a sample of length in len_group  \n",
        "  grp1 = random.sample(stu_list, len)\n",
        "  # remove those elements from the studnet_list that are in group sample,\n",
        "  # so that the next time those elements will not be in another sample. \n",
        "  stu_list = list(set(stu_list) ^ set(grp1))\n",
        "  # Adding the random sample to a resultant 2d array.\n",
        "  res = res + [grp1]\n",
        "    \n",
        "# printing the 6 groups.\n",
        "for row in res:\n",
        "    print(row, end= '\\n')\n"
      ]
    },
    {
      "cell_type": "markdown",
      "metadata": {
        "id": "nhqVJdOaAQMD"
      },
      "source": [
        "(9) Write a Python program to find the duplicate elements in a given array of integers. Return -1 If there are no such elements. (5 points)"
      ]
    },
    {
      "cell_type": "code",
      "execution_count": 22,
      "metadata": {
        "id": "Ki8bsbE3AQMD",
        "colab": {
          "base_uri": "https://localhost:8080/"
        },
        "outputId": "c7c6c717-2fdc-46a7-a2a9-fa6770a411eb"
      },
      "outputs": [
        {
          "output_type": "stream",
          "name": "stdout",
          "text": [
            "1, 4, 5, 6, "
          ]
        }
      ],
      "source": [
        "# write your answer here\n",
        "from numpy.core.defchararray import endswith\n",
        "\n",
        "import numpy as np\n",
        "arr1 = np.array([1, 2, 6, 5, 6, 4, 5, 6, 5, 4, 7, 8, 3, 6, 1])\n",
        "#arr1 = np.array([2, 3, 4, 5])\n",
        "\n",
        "flag1 = 0\n",
        "\n",
        "for n in set(arr1):\n",
        "  # get the count of occurences that are greater than 1.\n",
        "  if np.count_nonzero(arr1 == n) > 1:\n",
        "    flag1 = 1\n",
        "    print(n, end = ', ')\n",
        "\n",
        "# if there are no duplicate elements, tehn we print '-1'.\n",
        "if flag1 == 0:\n",
        "  print(\"-1\")"
      ]
    },
    {
      "cell_type": "markdown",
      "metadata": {
        "id": "zEnrP87iAQMD"
      },
      "source": [
        "(10) Write a Python program to select all the Sundays of a specified year. (5 extra points)"
      ]
    },
    {
      "cell_type": "code",
      "execution_count": null,
      "metadata": {
        "id": "HLwOf8jzAQME",
        "colab": {
          "base_uri": "https://localhost:8080/"
        },
        "outputId": "efe564b2-2c26-446b-d065-cbb00a653cd5"
      },
      "outputs": [
        {
          "output_type": "stream",
          "name": "stdout",
          "text": [
            "2022-01-02\n",
            "2022-01-09\n",
            "2022-01-16\n",
            "2022-01-23\n",
            "2022-01-30\n",
            "2022-02-06\n",
            "2022-02-13\n",
            "2022-02-20\n",
            "2022-02-27\n",
            "2022-03-06\n",
            "2022-03-13\n",
            "2022-03-20\n",
            "2022-03-27\n",
            "2022-04-03\n",
            "2022-04-10\n",
            "2022-04-17\n",
            "2022-04-24\n",
            "2022-05-01\n",
            "2022-05-08\n",
            "2022-05-15\n",
            "2022-05-22\n",
            "2022-05-29\n",
            "2022-06-05\n",
            "2022-06-12\n",
            "2022-06-19\n",
            "2022-06-26\n",
            "2022-07-03\n",
            "2022-07-10\n",
            "2022-07-17\n",
            "2022-07-24\n",
            "2022-07-31\n",
            "2022-08-07\n",
            "2022-08-14\n",
            "2022-08-21\n",
            "2022-08-28\n",
            "2022-09-04\n",
            "2022-09-11\n",
            "2022-09-18\n",
            "2022-09-25\n",
            "2022-10-02\n",
            "2022-10-09\n",
            "2022-10-16\n",
            "2022-10-23\n",
            "2022-10-30\n",
            "2022-11-06\n",
            "2022-11-13\n",
            "2022-11-20\n",
            "2022-11-27\n",
            "2022-12-04\n",
            "2022-12-11\n",
            "2022-12-18\n",
            "2022-12-25\n"
          ]
        }
      ],
      "source": [
        "# write your answer here\n",
        "\n",
        "from datetime import date, timedelta\n",
        "\n",
        "def all_sundays(year):\n",
        "# January 1st of the given year\n",
        "       dt = date(year, 1, 1)\n",
        "# First Sunday of the given year       \n",
        "       dt += timedelta(days = 6 - dt.weekday())  \n",
        "       while dt.year == year:\n",
        "          yield dt\n",
        "          dt += timedelta(days = 7)\n",
        "          \n",
        "for s in all_sundays(2022):\n",
        "   print(s)"
      ]
    }
  ],
  "metadata": {
    "colab": {
      "collapsed_sections": [],
      "name": "lab_assignment_01 (1).ipynb",
      "provenance": [],
      "include_colab_link": true
    },
    "kernelspec": {
      "display_name": "Python 3",
      "language": "python",
      "name": "python3"
    },
    "language_info": {
      "codemirror_mode": {
        "name": "ipython",
        "version": 3
      },
      "file_extension": ".py",
      "mimetype": "text/x-python",
      "name": "python",
      "nbconvert_exporter": "python",
      "pygments_lexer": "ipython3",
      "version": "3.8.5"
    }
  },
  "nbformat": 4,
  "nbformat_minor": 0
}