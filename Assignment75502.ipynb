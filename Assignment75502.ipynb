{
  "cells": [
    {
      "cell_type": "markdown",
      "metadata": {
        "id": "view-in-github",
        "colab_type": "text"
      },
      "source": [
        "<a href=\"https://colab.research.google.com/github/GillalaJeevana/Jeevana_INFO5502_Spring2022/blob/main/Assignment75502.ipynb\" target=\"_parent\"><img src=\"https://colab.research.google.com/assets/colab-badge.svg\" alt=\"Open In Colab\"/></a>"
      ]
    },
    {
      "cell_type": "markdown",
      "metadata": {
        "id": "VHwmNQpNlMWA"
      },
      "source": [
        "## The seventh Lab-assignment (03/31/2022, 50 points in total)"
      ]
    },
    {
      "cell_type": "markdown",
      "metadata": {
        "id": "WBdelTzJlMWA"
      },
      "source": [
        "The purpose of this exercise is to build several regression models based on real-world datasets. "
      ]
    },
    {
      "cell_type": "markdown",
      "metadata": {
        "id": "9cHEUo5ElMWB"
      },
      "source": [
        "### Question 1 (25 points) Build a regession model to predict the change in price of the stock overtime. It can either be linear regression or non-linear regression. You can download the dataset from here: https://github.com/unt-iialab/info5502-spring2022/blob/main/datasets/portfolio_data.csv. The implementation of the LSTM on this same dataset was posted here as an reference: https://www.kaggle.com/code/faressayah/stock-market-analysis-prediction-using-lstm/notebook"
      ]
    },
    {
      "cell_type": "code",
      "execution_count": null,
      "metadata": {
        "id": "f4BtpI4olMWB"
      },
      "outputs": [],
      "source": [
        "from google.colab import drive\n",
        "drive.mount('/content/gdrive')"
      ]
    },
    {
      "cell_type": "code",
      "source": [
        "import pandas as pd\n",
        "from sklearn.model_selection import train_test_split\n",
        "from sklearn.linear_model import LinearRegression\n",
        "from sklearn.metrics import mean_squared_error, r2_score\n",
        "import numpy as np\n",
        "from sklearn.ensemble import RandomForestRegressor\n",
        "\n",
        "\n",
        "def getProtfolioDataFrame():\n",
        "  df = pd.read_csv(\"/content/gdrive/MyDrive/portfolio_data.csv\", sep= '\\t')\n",
        "  return df\n",
        "\n",
        "def createXandY(df):\n",
        "  X = df.drop(['Date', 'NFLX'], axis = 1)\n",
        "  y = df['NFLX']\n",
        "  return (X, y)\n",
        "\n",
        "def splitData(df):\n",
        "  X,y = createXandY(df)\n",
        "  xtrain, xtest, ytrain, ytest = train_test_split(X, \n",
        "                                                  y, \n",
        "                                                  test_size = 0.2, \n",
        "                                                  random_state = 0)\n",
        "  return (xtrain, xtest, ytrain, ytest)\n",
        "\n",
        "#### Linear Model #######\n",
        "def LinearRegressionModel(df):\n",
        "  xtrain, xtest, ytrain, ytest =  splitData(df)\n",
        "  LinearModel = LinearRegression()\n",
        "  LinearModel.fit(xtrain, ytrain)\n",
        "  yPred = LinearModel.predict(xtest)\n",
        "  return yPred\n",
        "\n",
        "###### Non Linear Model ########\n",
        "def RanDomForestModel(df):\n",
        "  xtrain, xtest, ytrain, ytest =  splitData(df)\n",
        "  RandomModel = RandomForestRegressor(random_state=211)\n",
        "  RandomModel.fit(xtrain, ytrain)\n",
        "  yPred = RandomModel.predict(xtest)\n",
        "  return yPred\n",
        "\n",
        "def RMSE(ytest, yPred):\n",
        " return np.sqrt(mean_squared_error(ytest, yPred))\n",
        "\n",
        "\n",
        "def r2Score(ytest, yPred):\n",
        "  return  r2_score(ytest, yPred)"
      ],
      "metadata": {
        "id": "g1dAbFwHmcFK"
      },
      "execution_count": null,
      "outputs": []
    },
    {
      "cell_type": "code",
      "source": [
        "prot_df = getProtfolioDataFrame()"
      ],
      "metadata": {
        "id": "auQX2Iy-mrql"
      },
      "execution_count": null,
      "outputs": []
    },
    {
      "cell_type": "code",
      "source": [
        "prot_df"
      ],
      "metadata": {
        "colab": {
          "base_uri": "https://localhost:8080/",
          "height": 423
        },
        "id": "rqM1aJP3myey",
        "outputId": "a7850804-147e-405e-d3a7-ce36c58df55d"
      },
      "execution_count": null,
      "outputs": [
        {
          "output_type": "execute_result",
          "data": {
            "text/plain": [
              "           Date         AMZN         DPZ          BTC        NFLX\n",
              "0      5/1/2013   248.229996   51.190983   106.250000   30.415714\n",
              "1      5/2/2013   252.550003   51.987320    98.099998   30.641428\n",
              "2      5/3/2013   258.049988   52.446388   112.900002   30.492857\n",
              "3      5/6/2013   255.720001   53.205257   109.599998   30.098572\n",
              "4      5/7/2013   257.730011   54.151505   113.199997   29.464285\n",
              "...         ...          ...         ...          ...         ...\n",
              "1515   5/8/2019  1917.770020  283.149994  6171.959961  364.369995\n",
              "1516   5/9/2019  1899.869995  282.160004  6358.290039  362.750000\n",
              "1517  5/10/2019  1889.979980  278.369995  7191.359863  361.040009\n",
              "1518  5/13/2019  1822.680054  273.880005  7980.129883  345.260010\n",
              "1519  5/14/2019  1840.119995  272.859985  8183.830078  345.609985\n",
              "\n",
              "[1520 rows x 5 columns]"
            ],
            "text/html": [
              "\n",
              "  <div id=\"df-c7114aeb-225f-4e7d-b497-cf818c727a04\">\n",
              "    <div class=\"colab-df-container\">\n",
              "      <div>\n",
              "<style scoped>\n",
              "    .dataframe tbody tr th:only-of-type {\n",
              "        vertical-align: middle;\n",
              "    }\n",
              "\n",
              "    .dataframe tbody tr th {\n",
              "        vertical-align: top;\n",
              "    }\n",
              "\n",
              "    .dataframe thead th {\n",
              "        text-align: right;\n",
              "    }\n",
              "</style>\n",
              "<table border=\"1\" class=\"dataframe\">\n",
              "  <thead>\n",
              "    <tr style=\"text-align: right;\">\n",
              "      <th></th>\n",
              "      <th>Date</th>\n",
              "      <th>AMZN</th>\n",
              "      <th>DPZ</th>\n",
              "      <th>BTC</th>\n",
              "      <th>NFLX</th>\n",
              "    </tr>\n",
              "  </thead>\n",
              "  <tbody>\n",
              "    <tr>\n",
              "      <th>0</th>\n",
              "      <td>5/1/2013</td>\n",
              "      <td>248.229996</td>\n",
              "      <td>51.190983</td>\n",
              "      <td>106.250000</td>\n",
              "      <td>30.415714</td>\n",
              "    </tr>\n",
              "    <tr>\n",
              "      <th>1</th>\n",
              "      <td>5/2/2013</td>\n",
              "      <td>252.550003</td>\n",
              "      <td>51.987320</td>\n",
              "      <td>98.099998</td>\n",
              "      <td>30.641428</td>\n",
              "    </tr>\n",
              "    <tr>\n",
              "      <th>2</th>\n",
              "      <td>5/3/2013</td>\n",
              "      <td>258.049988</td>\n",
              "      <td>52.446388</td>\n",
              "      <td>112.900002</td>\n",
              "      <td>30.492857</td>\n",
              "    </tr>\n",
              "    <tr>\n",
              "      <th>3</th>\n",
              "      <td>5/6/2013</td>\n",
              "      <td>255.720001</td>\n",
              "      <td>53.205257</td>\n",
              "      <td>109.599998</td>\n",
              "      <td>30.098572</td>\n",
              "    </tr>\n",
              "    <tr>\n",
              "      <th>4</th>\n",
              "      <td>5/7/2013</td>\n",
              "      <td>257.730011</td>\n",
              "      <td>54.151505</td>\n",
              "      <td>113.199997</td>\n",
              "      <td>29.464285</td>\n",
              "    </tr>\n",
              "    <tr>\n",
              "      <th>...</th>\n",
              "      <td>...</td>\n",
              "      <td>...</td>\n",
              "      <td>...</td>\n",
              "      <td>...</td>\n",
              "      <td>...</td>\n",
              "    </tr>\n",
              "    <tr>\n",
              "      <th>1515</th>\n",
              "      <td>5/8/2019</td>\n",
              "      <td>1917.770020</td>\n",
              "      <td>283.149994</td>\n",
              "      <td>6171.959961</td>\n",
              "      <td>364.369995</td>\n",
              "    </tr>\n",
              "    <tr>\n",
              "      <th>1516</th>\n",
              "      <td>5/9/2019</td>\n",
              "      <td>1899.869995</td>\n",
              "      <td>282.160004</td>\n",
              "      <td>6358.290039</td>\n",
              "      <td>362.750000</td>\n",
              "    </tr>\n",
              "    <tr>\n",
              "      <th>1517</th>\n",
              "      <td>5/10/2019</td>\n",
              "      <td>1889.979980</td>\n",
              "      <td>278.369995</td>\n",
              "      <td>7191.359863</td>\n",
              "      <td>361.040009</td>\n",
              "    </tr>\n",
              "    <tr>\n",
              "      <th>1518</th>\n",
              "      <td>5/13/2019</td>\n",
              "      <td>1822.680054</td>\n",
              "      <td>273.880005</td>\n",
              "      <td>7980.129883</td>\n",
              "      <td>345.260010</td>\n",
              "    </tr>\n",
              "    <tr>\n",
              "      <th>1519</th>\n",
              "      <td>5/14/2019</td>\n",
              "      <td>1840.119995</td>\n",
              "      <td>272.859985</td>\n",
              "      <td>8183.830078</td>\n",
              "      <td>345.609985</td>\n",
              "    </tr>\n",
              "  </tbody>\n",
              "</table>\n",
              "<p>1520 rows × 5 columns</p>\n",
              "</div>\n",
              "      <button class=\"colab-df-convert\" onclick=\"convertToInteractive('df-c7114aeb-225f-4e7d-b497-cf818c727a04')\"\n",
              "              title=\"Convert this dataframe to an interactive table.\"\n",
              "              style=\"display:none;\">\n",
              "        \n",
              "  <svg xmlns=\"http://www.w3.org/2000/svg\" height=\"24px\"viewBox=\"0 0 24 24\"\n",
              "       width=\"24px\">\n",
              "    <path d=\"M0 0h24v24H0V0z\" fill=\"none\"/>\n",
              "    <path d=\"M18.56 5.44l.94 2.06.94-2.06 2.06-.94-2.06-.94-.94-2.06-.94 2.06-2.06.94zm-11 1L8.5 8.5l.94-2.06 2.06-.94-2.06-.94L8.5 2.5l-.94 2.06-2.06.94zm10 10l.94 2.06.94-2.06 2.06-.94-2.06-.94-.94-2.06-.94 2.06-2.06.94z\"/><path d=\"M17.41 7.96l-1.37-1.37c-.4-.4-.92-.59-1.43-.59-.52 0-1.04.2-1.43.59L10.3 9.45l-7.72 7.72c-.78.78-.78 2.05 0 2.83L4 21.41c.39.39.9.59 1.41.59.51 0 1.02-.2 1.41-.59l7.78-7.78 2.81-2.81c.8-.78.8-2.07 0-2.86zM5.41 20L4 18.59l7.72-7.72 1.47 1.35L5.41 20z\"/>\n",
              "  </svg>\n",
              "      </button>\n",
              "      \n",
              "  <style>\n",
              "    .colab-df-container {\n",
              "      display:flex;\n",
              "      flex-wrap:wrap;\n",
              "      gap: 12px;\n",
              "    }\n",
              "\n",
              "    .colab-df-convert {\n",
              "      background-color: #E8F0FE;\n",
              "      border: none;\n",
              "      border-radius: 50%;\n",
              "      cursor: pointer;\n",
              "      display: none;\n",
              "      fill: #1967D2;\n",
              "      height: 32px;\n",
              "      padding: 0 0 0 0;\n",
              "      width: 32px;\n",
              "    }\n",
              "\n",
              "    .colab-df-convert:hover {\n",
              "      background-color: #E2EBFA;\n",
              "      box-shadow: 0px 1px 2px rgba(60, 64, 67, 0.3), 0px 1px 3px 1px rgba(60, 64, 67, 0.15);\n",
              "      fill: #174EA6;\n",
              "    }\n",
              "\n",
              "    [theme=dark] .colab-df-convert {\n",
              "      background-color: #3B4455;\n",
              "      fill: #D2E3FC;\n",
              "    }\n",
              "\n",
              "    [theme=dark] .colab-df-convert:hover {\n",
              "      background-color: #434B5C;\n",
              "      box-shadow: 0px 1px 3px 1px rgba(0, 0, 0, 0.15);\n",
              "      filter: drop-shadow(0px 1px 2px rgba(0, 0, 0, 0.3));\n",
              "      fill: #FFFFFF;\n",
              "    }\n",
              "  </style>\n",
              "\n",
              "      <script>\n",
              "        const buttonEl =\n",
              "          document.querySelector('#df-c7114aeb-225f-4e7d-b497-cf818c727a04 button.colab-df-convert');\n",
              "        buttonEl.style.display =\n",
              "          google.colab.kernel.accessAllowed ? 'block' : 'none';\n",
              "\n",
              "        async function convertToInteractive(key) {\n",
              "          const element = document.querySelector('#df-c7114aeb-225f-4e7d-b497-cf818c727a04');\n",
              "          const dataTable =\n",
              "            await google.colab.kernel.invokeFunction('convertToInteractive',\n",
              "                                                     [key], {});\n",
              "          if (!dataTable) return;\n",
              "\n",
              "          const docLinkHtml = 'Like what you see? Visit the ' +\n",
              "            '<a target=\"_blank\" href=https://colab.research.google.com/notebooks/data_table.ipynb>data table notebook</a>'\n",
              "            + ' to learn more about interactive tables.';\n",
              "          element.innerHTML = '';\n",
              "          dataTable['output_type'] = 'display_data';\n",
              "          await google.colab.output.renderOutput(dataTable, element);\n",
              "          const docLink = document.createElement('div');\n",
              "          docLink.innerHTML = docLinkHtml;\n",
              "          element.appendChild(docLink);\n",
              "        }\n",
              "      </script>\n",
              "    </div>\n",
              "  </div>\n",
              "  "
            ]
          },
          "metadata": {},
          "execution_count": 8
        }
      ]
    },
    {
      "cell_type": "code",
      "source": [
        "yPred = LinearRegressionModel(prot_df)"
      ],
      "metadata": {
        "id": "gI_9vTItpXkq"
      },
      "execution_count": null,
      "outputs": []
    },
    {
      "cell_type": "code",
      "source": [
        "yPred"
      ],
      "metadata": {
        "colab": {
          "base_uri": "https://localhost:8080/"
        },
        "id": "JMIdt6Ihp4AN",
        "outputId": "349f3076-62c7-47dc-da56-3f7d949a387d"
      },
      "execution_count": null,
      "outputs": [
        {
          "output_type": "execute_result",
          "data": {
            "text/plain": [
              "array([306.13356879,  37.87352028,  35.69166279,  54.1598643 ,\n",
              "        47.61272205,  54.1824834 ,  44.3605454 ,  94.54760463,\n",
              "       119.16294045, 117.17697735,  97.72661699,  52.01375651,\n",
              "       135.95934043, 112.80189147, 325.08934317,  40.61807849,\n",
              "       173.11674181, 316.71461404,  37.73770448,  43.01011473,\n",
              "        57.55702   ,  41.13307824, 136.18528659,  57.21121749,\n",
              "       108.1718446 ,  52.85354646,  80.66291498,  97.12724971,\n",
              "       149.20936854,  45.8105381 ,  42.33078667, 168.52611818,\n",
              "       149.28189404, 137.00814388, 311.02218506,  55.0996781 ,\n",
              "       279.81745562, 179.72306086, 368.1417442 , 304.6983609 ,\n",
              "       217.20472455,  56.68948395, 174.9854639 ,  44.07146627,\n",
              "       369.25519593, 134.60751591, 135.68593433, 165.17461608,\n",
              "       175.31757129,  66.01636646, 180.02307806,  88.60122421,\n",
              "       175.02532125, 116.87631044, 124.15406268, 337.70335154,\n",
              "        89.9362022 , 397.2085667 , 315.28547758, 312.25517714,\n",
              "        55.77877061,  42.95927055,  85.8036273 , 388.14922559,\n",
              "        50.13447939, 212.58157104,  47.50555317, 132.31724102,\n",
              "        65.63051517,  85.00461731,  55.13155585, 310.35581702,\n",
              "       205.16420176, 147.59037135, 203.12935229,  64.91798608,\n",
              "        53.55117417,  41.38570539,  51.44103121,  88.07511081,\n",
              "       148.8373483 ,  92.65781443,  42.41602316,  36.85261803,\n",
              "       274.6620287 , 171.80550926, 205.27205316,  90.83778832,\n",
              "        86.00649548, 276.68871729,  45.68209924,  35.41262728,\n",
              "        39.39700966,  44.40954942, 304.82020696, 350.00872389,\n",
              "        41.41403644, 377.17766382, 272.4046743 , 138.08613465,\n",
              "       116.33007062, 185.78463504,  38.22305719,  63.31336547,\n",
              "       285.15977463, 180.0591244 , 175.97755006, 344.28226031,\n",
              "       325.47082027, 149.1627055 , 139.35883554,  94.68436935,\n",
              "       173.61529432, 118.10460097, 147.21578821, 177.6076199 ,\n",
              "       113.82784732,  89.14425964,  60.79280309, 179.81779019,\n",
              "        44.29732976,  59.82224274,  54.71694142,  35.96852883,\n",
              "       330.96750383,  56.01765395,  61.92642725, 355.84331011,\n",
              "        55.72221913, 149.35952031,  56.56340603, 177.43110516,\n",
              "        43.52097126, 102.02218918,  55.43308891, 179.32302708,\n",
              "        47.68209281,  48.41943801, 224.88070668,  33.49800872,\n",
              "        53.0098622 ,  67.45358966,  64.75893535, 269.39413929,\n",
              "        43.66873209,  46.97302296,  51.6823921 , 178.21731771,\n",
              "        46.38140789, 149.08605029, 150.33645254, 121.5865773 ,\n",
              "       311.49756374,  53.15616902, 314.89912361,  65.29994805,\n",
              "       342.33895009, 318.79210707,  64.47616982, 364.61193648,\n",
              "       303.12930753,  41.70658106, 352.08775052,  45.78372647,\n",
              "        51.67318365,  47.09301896,  47.19379911,  47.92839606,\n",
              "        42.99636576,  91.7456467 , 343.46802044, 158.42680695,\n",
              "        33.68330363, 323.97964661,  55.31190872,  35.32039116,\n",
              "       335.26014668, 162.37936905, 325.73783979, 389.43732554,\n",
              "        96.96837004, 377.70234497, 171.21016556, 179.31839263,\n",
              "        48.33073307,  65.87767101, 319.87509003,  56.29911621,\n",
              "       221.18944433, 252.42591589, 112.21088641,  43.95357063,\n",
              "        48.28459513,  92.16606343,  38.30671594,  85.97287008,\n",
              "        69.44217751, 117.47088031, 155.92017071, 216.5140103 ,\n",
              "       178.72501298,  41.51519007,  55.24121211,  43.04099083,\n",
              "       337.96235933,  39.36057039, 132.72794135, 124.62367429,\n",
              "       312.11771076,  54.95102274,  41.90696416,  33.7121856 ,\n",
              "       149.93583739,  38.21023343, 149.97001524,  46.07682592,\n",
              "        48.19805977,  61.7984071 , 322.72697995,  65.73608751,\n",
              "       372.90742491,  54.58613981, 173.25262389, 161.41827989,\n",
              "        62.43623035, 368.57975095, 176.40117135,  40.10033306,\n",
              "       183.70852641,  39.31013505, 300.88511407,  35.06313172,\n",
              "       118.66649072,  42.76892613, 150.87052798,  62.50778661,\n",
              "        44.93781527, 249.83768382,  38.93260511, 162.52480403,\n",
              "        53.63378609, 142.961018  ,  32.56484257, 326.42442747,\n",
              "       175.09124499, 322.6312119 , 288.26609775, 151.61158376,\n",
              "        88.61539443, 133.42444065,  50.46840488, 136.36617233,\n",
              "        62.28845708, 173.20138729,  88.47112455, 175.34382791,\n",
              "        73.24313219, 116.61816686,  64.47536975,  55.05775433,\n",
              "       319.07181   ,  50.14312518,  57.19380596,  56.01659952,\n",
              "        43.28182191, 136.47996927,  89.69776907, 331.11214314,\n",
              "       160.80991722,  95.28332033,  54.0261462 , 351.92234741,\n",
              "        56.25918976, 168.88847128,  99.50457604, 181.11342281,\n",
              "        54.76187607, 183.02645876,  45.74232988,  68.32549234,\n",
              "       319.81157617, 132.73859338, 170.63295951, 149.89793246,\n",
              "        84.07885843,  41.17303063,  67.32718447,  45.51285882,\n",
              "       314.30032978,  53.16705285, 109.18970096,  53.80182398,\n",
              "        87.04601311,  46.35440138,  44.16030641,  62.85969336,\n",
              "       172.76881298, 323.61426624, 340.1256876 , 341.29911545,\n",
              "       383.60781951, 341.4609271 , 306.65875816, 204.16134732])"
            ]
          },
          "metadata": {},
          "execution_count": 23
        }
      ]
    },
    {
      "cell_type": "code",
      "source": [
        "xtrain, xtest, ytrain, ytest = splitData(prot_df)"
      ],
      "metadata": {
        "id": "o8sAYKQQp_o_"
      },
      "execution_count": null,
      "outputs": []
    },
    {
      "cell_type": "code",
      "source": [
        "rmse = RMSE(ytest, yPred)\n",
        "print(rmse)"
      ],
      "metadata": {
        "colab": {
          "base_uri": "https://localhost:8080/"
        },
        "id": "5HPKck3KqElO",
        "outputId": "7e9061ea-bee2-4fa1-8de8-384f2c2e478d"
      },
      "execution_count": null,
      "outputs": [
        {
          "output_type": "stream",
          "name": "stdout",
          "text": [
            "21.479712235055025\n"
          ]
        }
      ]
    },
    {
      "cell_type": "code",
      "source": [
        "r2_score = r2Score(ytest, yPred)\n",
        "print(r2_score)"
      ],
      "metadata": {
        "colab": {
          "base_uri": "https://localhost:8080/"
        },
        "id": "_7qiMWFzqYtB",
        "outputId": "c8132cdc-60bd-4715-b731-4f97592875af"
      },
      "execution_count": null,
      "outputs": [
        {
          "output_type": "stream",
          "name": "stdout",
          "text": [
            "0.9597280743181571\n"
          ]
        }
      ]
    },
    {
      "cell_type": "markdown",
      "source": [
        "# NON linear Model"
      ],
      "metadata": {
        "id": "FHZWKvVarJ82"
      }
    },
    {
      "cell_type": "code",
      "source": [
        "YRPred = RanDomForestModel(prot_df)"
      ],
      "metadata": {
        "id": "hLV2N-Y2rJbb"
      },
      "execution_count": null,
      "outputs": []
    },
    {
      "cell_type": "code",
      "source": [
        "rmse = RMSE(ytest, YRPred)\n",
        "print(rmse)"
      ],
      "metadata": {
        "colab": {
          "base_uri": "https://localhost:8080/"
        },
        "id": "mfB-nw2nrJYC",
        "outputId": "de75de50-ba5d-466e-95ef-1d792248a437"
      },
      "execution_count": null,
      "outputs": [
        {
          "output_type": "stream",
          "name": "stdout",
          "text": [
            "11.106742773748609\n"
          ]
        }
      ]
    },
    {
      "cell_type": "code",
      "source": [
        "r2_score = r2Score(ytest, YRPred)\n",
        "print(r2_score)"
      ],
      "metadata": {
        "colab": {
          "base_uri": "https://localhost:8080/"
        },
        "id": "q7nkCvUqrVyT",
        "outputId": "c8ead201-47dd-4d1d-a442-ff95d3c00ab4"
      },
      "execution_count": null,
      "outputs": [
        {
          "output_type": "stream",
          "name": "stdout",
          "text": [
            "0.9892324001668802\n"
          ]
        }
      ]
    },
    {
      "cell_type": "markdown",
      "metadata": {
        "id": "pPUWibyOlMWB"
      },
      "source": [
        "### Question 2 (25 points) The objective of this task is to detect hate speech in tweets. For the sake of simplicity, we say a tweet contains hate speech if it has a racist or sexist sentiment associated with it. So, the task is to classify racist or sexist tweets from other tweets. Formally, given a training sample of tweets and labels, where label '1' denotes the tweet is racist/sexist and label '0' denotes the tweet is not racist/sexist, your objective is to predict the labels on the test dataset. The dataset can be downloaded here: https://github.com/unt-iialab/info5502-spring2022/tree/main/datasets/Twitter%20Sentiment%20Analysis. Please build a logistic regression model for the classification, evaluation metrics include accuracy, precision, recall, and F-1 score need to be reported. "
      ]
    },
    {
      "cell_type": "code",
      "execution_count": null,
      "metadata": {
        "colab": {
          "base_uri": "https://localhost:8080/"
        },
        "id": "ju5ucIvxlMWB",
        "outputId": "3b275f08-b3cd-43b0-d7c4-9ed6ed15b84d"
      },
      "outputs": [
        {
          "output_type": "stream",
          "name": "stdout",
          "text": [
            "[nltk_data] Downloading package punkt to /root/nltk_data...\n",
            "[nltk_data]   Package punkt is already up-to-date!\n",
            "[nltk_data] Downloading package stopwords to /root/nltk_data...\n",
            "[nltk_data]   Package stopwords is already up-to-date!\n",
            "[nltk_data] Downloading package wordnet to /root/nltk_data...\n",
            "[nltk_data]   Package wordnet is already up-to-date!\n"
          ]
        }
      ],
      "source": [
        "import pandas as pd\n",
        "import re\n",
        "from textblob import TextBlob\n",
        "import nltk\n",
        "from nltk.corpus import stopwords\n",
        "nltk.download('punkt')\n",
        "from nltk.stem import PorterStemmer\n",
        "from textblob import Word\n",
        "import nltk\n",
        "nltk.download('stopwords')\n",
        "nltk.download('wordnet')\n",
        "from sklearn.feature_extraction.text import TfidfVectorizer\n",
        "from sklearn.metrics import classification_report, confusion_matrix\n",
        "from sklearn.model_selection import train_test_split\n",
        "from sklearn.feature_selection import SelectKBest, chi2\n",
        "from sklearn.linear_model import LogisticRegression\n",
        "\n",
        "\n",
        "def loadData(path):\n",
        "  return pd.read_csv(path)\n",
        "\n",
        "def lowerCase(tweets_list):\n",
        "  return tweets_list.apply(lambda x: \" \".join(x.lower() for x in x.split()))\n",
        "\n",
        "def removePunctuation(tweets_list):\n",
        "  return tweets_list.str.replace('[^\\w\\s]','')\n",
        "\n",
        "def removeSpecialCharcters(tweets_list):\n",
        "  return tweets_list.apply(lambda x: ''.join(re.sub(r\"[^a-zA-Z0-9]+\", ' ', charctr) for charctr in x ))\n",
        "\n",
        "def removeStopWords(tweets_list):\n",
        "  stop = stopwords.words('english')\n",
        "  return tweets_list.apply(lambda x: \" \".join(x for x in x.split() if x not in stop))\n",
        "\n",
        "def Tokenisation(tweets_list):\n",
        "  return tweets_list.apply(lambda x: TextBlob(x).words)\n",
        "\n",
        "def stemming(tweets_list):\n",
        "  ps = PorterStemmer()\n",
        "  return tweets_list.apply(lambda x: \" \".join([ps.stem(word) for word in x]))\n",
        "\n",
        "def lemmitization(tweets_list):\n",
        "  return tweets_list.apply(lambda x: \" \".join([Word(word).lemmatize() for word in x.split()]))\n",
        "\n",
        "\n",
        "def splitData(df, X_features):\n",
        "  Y = df['label']\n",
        "  X_train, X_test, y_train, y_test = train_test_split(X_features, \n",
        "                                                      Y, \n",
        "                                                      test_size=0.2)\n",
        "  return (X_train, X_test, y_train, y_test)\n",
        "\n",
        "\n",
        "def LogisticModel(df, X_features):\n",
        "  Y = df['label']\n",
        "  X_train, X_test, y_train, y_test = train_test_split(X_features, \n",
        "                                                      Y, \n",
        "                                                      test_size=0.2)\n",
        "  logModel = LogisticRegression()\n",
        "  logModel = logModel.fit(X_train, y_train)\n",
        "  ypred = logModel.predict(X_test)\n",
        "  return ypred, logModel\n",
        "\n",
        "\n",
        "def classificationReport(y_test, ypred):\n",
        "  return classification_report(y_test, ypred)\n",
        "\n",
        "def confusionMatrix(y_test, ypred):\n",
        "  return confusion_matrix(y_test, ypred)\n",
        " \n",
        "\n",
        "def getFeaturesData(df):\n",
        "  X = df['cleanedtextList']\n",
        "  tfModel = TfidfVectorizer(min_df = 3,\n",
        "                               ngram_range=(1, 2))\n",
        "  vectorModel = tfModel.fit(X)\n",
        "  X_features = vectorModel.transform(X).toarray()\n",
        "  return X_features\n"
      ]
    },
    {
      "cell_type": "code",
      "source": [
        "train_Df = loadData('/content/gdrive/MyDrive/train.csv')"
      ],
      "metadata": {
        "id": "LLcXglL2todz"
      },
      "execution_count": null,
      "outputs": []
    },
    {
      "cell_type": "code",
      "source": [
        "train_Df"
      ],
      "metadata": {
        "colab": {
          "base_uri": "https://localhost:8080/",
          "height": 423
        },
        "id": "WhTW4tELtzHp",
        "outputId": "411f31e4-f4de-4ffd-98d9-7d9a0ad065ba"
      },
      "execution_count": null,
      "outputs": [
        {
          "output_type": "execute_result",
          "data": {
            "text/plain": [
              "          id  label                                              tweet\n",
              "0          1      0   @user when a father is dysfunctional and is s...\n",
              "1          2      0  @user @user thanks for #lyft credit i can't us...\n",
              "2          3      0                                bihday your majesty\n",
              "3          4      0  #model   i love u take with u all the time in ...\n",
              "4          5      0             factsguide: society now    #motivation\n",
              "...      ...    ...                                                ...\n",
              "31957  31958      0  ate @user isz that youuu?ðððððð...\n",
              "31958  31959      0    to see nina turner on the airwaves trying to...\n",
              "31959  31960      0  listening to sad songs on a monday morning otw...\n",
              "31960  31961      1  @user #sikh #temple vandalised in in #calgary,...\n",
              "31961  31962      0                   thank you @user for you follow  \n",
              "\n",
              "[31962 rows x 3 columns]"
            ],
            "text/html": [
              "\n",
              "  <div id=\"df-68dc391c-3b40-4bc4-b69b-1af2340dd18b\">\n",
              "    <div class=\"colab-df-container\">\n",
              "      <div>\n",
              "<style scoped>\n",
              "    .dataframe tbody tr th:only-of-type {\n",
              "        vertical-align: middle;\n",
              "    }\n",
              "\n",
              "    .dataframe tbody tr th {\n",
              "        vertical-align: top;\n",
              "    }\n",
              "\n",
              "    .dataframe thead th {\n",
              "        text-align: right;\n",
              "    }\n",
              "</style>\n",
              "<table border=\"1\" class=\"dataframe\">\n",
              "  <thead>\n",
              "    <tr style=\"text-align: right;\">\n",
              "      <th></th>\n",
              "      <th>id</th>\n",
              "      <th>label</th>\n",
              "      <th>tweet</th>\n",
              "    </tr>\n",
              "  </thead>\n",
              "  <tbody>\n",
              "    <tr>\n",
              "      <th>0</th>\n",
              "      <td>1</td>\n",
              "      <td>0</td>\n",
              "      <td>@user when a father is dysfunctional and is s...</td>\n",
              "    </tr>\n",
              "    <tr>\n",
              "      <th>1</th>\n",
              "      <td>2</td>\n",
              "      <td>0</td>\n",
              "      <td>@user @user thanks for #lyft credit i can't us...</td>\n",
              "    </tr>\n",
              "    <tr>\n",
              "      <th>2</th>\n",
              "      <td>3</td>\n",
              "      <td>0</td>\n",
              "      <td>bihday your majesty</td>\n",
              "    </tr>\n",
              "    <tr>\n",
              "      <th>3</th>\n",
              "      <td>4</td>\n",
              "      <td>0</td>\n",
              "      <td>#model   i love u take with u all the time in ...</td>\n",
              "    </tr>\n",
              "    <tr>\n",
              "      <th>4</th>\n",
              "      <td>5</td>\n",
              "      <td>0</td>\n",
              "      <td>factsguide: society now    #motivation</td>\n",
              "    </tr>\n",
              "    <tr>\n",
              "      <th>...</th>\n",
              "      <td>...</td>\n",
              "      <td>...</td>\n",
              "      <td>...</td>\n",
              "    </tr>\n",
              "    <tr>\n",
              "      <th>31957</th>\n",
              "      <td>31958</td>\n",
              "      <td>0</td>\n",
              "      <td>ate @user isz that youuu?ðððððð...</td>\n",
              "    </tr>\n",
              "    <tr>\n",
              "      <th>31958</th>\n",
              "      <td>31959</td>\n",
              "      <td>0</td>\n",
              "      <td>to see nina turner on the airwaves trying to...</td>\n",
              "    </tr>\n",
              "    <tr>\n",
              "      <th>31959</th>\n",
              "      <td>31960</td>\n",
              "      <td>0</td>\n",
              "      <td>listening to sad songs on a monday morning otw...</td>\n",
              "    </tr>\n",
              "    <tr>\n",
              "      <th>31960</th>\n",
              "      <td>31961</td>\n",
              "      <td>1</td>\n",
              "      <td>@user #sikh #temple vandalised in in #calgary,...</td>\n",
              "    </tr>\n",
              "    <tr>\n",
              "      <th>31961</th>\n",
              "      <td>31962</td>\n",
              "      <td>0</td>\n",
              "      <td>thank you @user for you follow</td>\n",
              "    </tr>\n",
              "  </tbody>\n",
              "</table>\n",
              "<p>31962 rows × 3 columns</p>\n",
              "</div>\n",
              "      <button class=\"colab-df-convert\" onclick=\"convertToInteractive('df-68dc391c-3b40-4bc4-b69b-1af2340dd18b')\"\n",
              "              title=\"Convert this dataframe to an interactive table.\"\n",
              "              style=\"display:none;\">\n",
              "        \n",
              "  <svg xmlns=\"http://www.w3.org/2000/svg\" height=\"24px\"viewBox=\"0 0 24 24\"\n",
              "       width=\"24px\">\n",
              "    <path d=\"M0 0h24v24H0V0z\" fill=\"none\"/>\n",
              "    <path d=\"M18.56 5.44l.94 2.06.94-2.06 2.06-.94-2.06-.94-.94-2.06-.94 2.06-2.06.94zm-11 1L8.5 8.5l.94-2.06 2.06-.94-2.06-.94L8.5 2.5l-.94 2.06-2.06.94zm10 10l.94 2.06.94-2.06 2.06-.94-2.06-.94-.94-2.06-.94 2.06-2.06.94z\"/><path d=\"M17.41 7.96l-1.37-1.37c-.4-.4-.92-.59-1.43-.59-.52 0-1.04.2-1.43.59L10.3 9.45l-7.72 7.72c-.78.78-.78 2.05 0 2.83L4 21.41c.39.39.9.59 1.41.59.51 0 1.02-.2 1.41-.59l7.78-7.78 2.81-2.81c.8-.78.8-2.07 0-2.86zM5.41 20L4 18.59l7.72-7.72 1.47 1.35L5.41 20z\"/>\n",
              "  </svg>\n",
              "      </button>\n",
              "      \n",
              "  <style>\n",
              "    .colab-df-container {\n",
              "      display:flex;\n",
              "      flex-wrap:wrap;\n",
              "      gap: 12px;\n",
              "    }\n",
              "\n",
              "    .colab-df-convert {\n",
              "      background-color: #E8F0FE;\n",
              "      border: none;\n",
              "      border-radius: 50%;\n",
              "      cursor: pointer;\n",
              "      display: none;\n",
              "      fill: #1967D2;\n",
              "      height: 32px;\n",
              "      padding: 0 0 0 0;\n",
              "      width: 32px;\n",
              "    }\n",
              "\n",
              "    .colab-df-convert:hover {\n",
              "      background-color: #E2EBFA;\n",
              "      box-shadow: 0px 1px 2px rgba(60, 64, 67, 0.3), 0px 1px 3px 1px rgba(60, 64, 67, 0.15);\n",
              "      fill: #174EA6;\n",
              "    }\n",
              "\n",
              "    [theme=dark] .colab-df-convert {\n",
              "      background-color: #3B4455;\n",
              "      fill: #D2E3FC;\n",
              "    }\n",
              "\n",
              "    [theme=dark] .colab-df-convert:hover {\n",
              "      background-color: #434B5C;\n",
              "      box-shadow: 0px 1px 3px 1px rgba(0, 0, 0, 0.15);\n",
              "      filter: drop-shadow(0px 1px 2px rgba(0, 0, 0, 0.3));\n",
              "      fill: #FFFFFF;\n",
              "    }\n",
              "  </style>\n",
              "\n",
              "      <script>\n",
              "        const buttonEl =\n",
              "          document.querySelector('#df-68dc391c-3b40-4bc4-b69b-1af2340dd18b button.colab-df-convert');\n",
              "        buttonEl.style.display =\n",
              "          google.colab.kernel.accessAllowed ? 'block' : 'none';\n",
              "\n",
              "        async function convertToInteractive(key) {\n",
              "          const element = document.querySelector('#df-68dc391c-3b40-4bc4-b69b-1af2340dd18b');\n",
              "          const dataTable =\n",
              "            await google.colab.kernel.invokeFunction('convertToInteractive',\n",
              "                                                     [key], {});\n",
              "          if (!dataTable) return;\n",
              "\n",
              "          const docLinkHtml = 'Like what you see? Visit the ' +\n",
              "            '<a target=\"_blank\" href=https://colab.research.google.com/notebooks/data_table.ipynb>data table notebook</a>'\n",
              "            + ' to learn more about interactive tables.';\n",
              "          element.innerHTML = '';\n",
              "          dataTable['output_type'] = 'display_data';\n",
              "          await google.colab.output.renderOutput(dataTable, element);\n",
              "          const docLink = document.createElement('div');\n",
              "          docLink.innerHTML = docLinkHtml;\n",
              "          element.appendChild(docLink);\n",
              "        }\n",
              "      </script>\n",
              "    </div>\n",
              "  </div>\n",
              "  "
            ]
          },
          "metadata": {},
          "execution_count": 7
        }
      ]
    },
    {
      "cell_type": "code",
      "source": [
        "cleanedtextList = train_Df['tweet']\n",
        "cleanedtextList = lowerCase(cleanedtextList)\n",
        "cleanedtextList = removePunctuation(cleanedtextList)\n",
        "cleanedtextList = removeSpecialCharcters(cleanedtextList)\n",
        "cleanedtextList = removeStopWords(cleanedtextList)\n",
        "cleanedtextList = Tokenisation(cleanedtextList)\n",
        "cleanedtextList = stemming(cleanedtextList)\n",
        "cleanedtextList = lemmitization(cleanedtextList)"
      ],
      "metadata": {
        "colab": {
          "base_uri": "https://localhost:8080/"
        },
        "id": "Bd3rmewUt5gA",
        "outputId": "e38937bd-031c-4da1-bd3e-7f0a2583d86d"
      },
      "execution_count": null,
      "outputs": [
        {
          "output_type": "stream",
          "name": "stderr",
          "text": [
            "/usr/local/lib/python3.7/dist-packages/ipykernel_launcher.py:26: FutureWarning: The default value of regex will change from True to False in a future version.\n"
          ]
        }
      ]
    },
    {
      "cell_type": "code",
      "source": [
        "train_Df['cleanedtextList'] = cleanedtextList"
      ],
      "metadata": {
        "id": "68QYxC9OuKp4"
      },
      "execution_count": null,
      "outputs": []
    },
    {
      "cell_type": "code",
      "source": [
        "train_Df"
      ],
      "metadata": {
        "colab": {
          "base_uri": "https://localhost:8080/",
          "height": 423
        },
        "id": "513CaDFNuNUt",
        "outputId": "cacf33e4-1c0f-4a14-a0f5-f10e2fab6fc8"
      },
      "execution_count": null,
      "outputs": [
        {
          "output_type": "execute_result",
          "data": {
            "text/plain": [
              "          id  label                                              tweet  \\\n",
              "0          1      0   @user when a father is dysfunctional and is s...   \n",
              "1          2      0  @user @user thanks for #lyft credit i can't us...   \n",
              "2          3      0                                bihday your majesty   \n",
              "3          4      0  #model   i love u take with u all the time in ...   \n",
              "4          5      0             factsguide: society now    #motivation   \n",
              "...      ...    ...                                                ...   \n",
              "31957  31958      0  ate @user isz that youuu?ðððððð...   \n",
              "31958  31959      0    to see nina turner on the airwaves trying to...   \n",
              "31959  31960      0  listening to sad songs on a monday morning otw...   \n",
              "31960  31961      1  @user #sikh #temple vandalised in in #calgary,...   \n",
              "31961  31962      0                   thank you @user for you follow     \n",
              "\n",
              "                                         cleanedtextList  \n",
              "0      user father dysfunct selfish drag kid dysfunct...  \n",
              "1      user user thank lyft credit cant use caus dont...  \n",
              "2                                         bihday majesti  \n",
              "3                            model love u take u time ur  \n",
              "4                                factsguid societi motiv  \n",
              "...                                                  ...  \n",
              "31957                                 ate user isz youuu  \n",
              "31958  see nina turner airwav tri wrap mantl genuin h...  \n",
              "31959           listen sad song monday morn otw work sad  \n",
              "31960   user sikh templ vandalis calgari wso condemn act  \n",
              "31961                                  thank user follow  \n",
              "\n",
              "[31962 rows x 4 columns]"
            ],
            "text/html": [
              "\n",
              "  <div id=\"df-6113075c-a9d9-4015-b7e4-baa978fa06f0\">\n",
              "    <div class=\"colab-df-container\">\n",
              "      <div>\n",
              "<style scoped>\n",
              "    .dataframe tbody tr th:only-of-type {\n",
              "        vertical-align: middle;\n",
              "    }\n",
              "\n",
              "    .dataframe tbody tr th {\n",
              "        vertical-align: top;\n",
              "    }\n",
              "\n",
              "    .dataframe thead th {\n",
              "        text-align: right;\n",
              "    }\n",
              "</style>\n",
              "<table border=\"1\" class=\"dataframe\">\n",
              "  <thead>\n",
              "    <tr style=\"text-align: right;\">\n",
              "      <th></th>\n",
              "      <th>id</th>\n",
              "      <th>label</th>\n",
              "      <th>tweet</th>\n",
              "      <th>cleanedtextList</th>\n",
              "    </tr>\n",
              "  </thead>\n",
              "  <tbody>\n",
              "    <tr>\n",
              "      <th>0</th>\n",
              "      <td>1</td>\n",
              "      <td>0</td>\n",
              "      <td>@user when a father is dysfunctional and is s...</td>\n",
              "      <td>user father dysfunct selfish drag kid dysfunct...</td>\n",
              "    </tr>\n",
              "    <tr>\n",
              "      <th>1</th>\n",
              "      <td>2</td>\n",
              "      <td>0</td>\n",
              "      <td>@user @user thanks for #lyft credit i can't us...</td>\n",
              "      <td>user user thank lyft credit cant use caus dont...</td>\n",
              "    </tr>\n",
              "    <tr>\n",
              "      <th>2</th>\n",
              "      <td>3</td>\n",
              "      <td>0</td>\n",
              "      <td>bihday your majesty</td>\n",
              "      <td>bihday majesti</td>\n",
              "    </tr>\n",
              "    <tr>\n",
              "      <th>3</th>\n",
              "      <td>4</td>\n",
              "      <td>0</td>\n",
              "      <td>#model   i love u take with u all the time in ...</td>\n",
              "      <td>model love u take u time ur</td>\n",
              "    </tr>\n",
              "    <tr>\n",
              "      <th>4</th>\n",
              "      <td>5</td>\n",
              "      <td>0</td>\n",
              "      <td>factsguide: society now    #motivation</td>\n",
              "      <td>factsguid societi motiv</td>\n",
              "    </tr>\n",
              "    <tr>\n",
              "      <th>...</th>\n",
              "      <td>...</td>\n",
              "      <td>...</td>\n",
              "      <td>...</td>\n",
              "      <td>...</td>\n",
              "    </tr>\n",
              "    <tr>\n",
              "      <th>31957</th>\n",
              "      <td>31958</td>\n",
              "      <td>0</td>\n",
              "      <td>ate @user isz that youuu?ðððððð...</td>\n",
              "      <td>ate user isz youuu</td>\n",
              "    </tr>\n",
              "    <tr>\n",
              "      <th>31958</th>\n",
              "      <td>31959</td>\n",
              "      <td>0</td>\n",
              "      <td>to see nina turner on the airwaves trying to...</td>\n",
              "      <td>see nina turner airwav tri wrap mantl genuin h...</td>\n",
              "    </tr>\n",
              "    <tr>\n",
              "      <th>31959</th>\n",
              "      <td>31960</td>\n",
              "      <td>0</td>\n",
              "      <td>listening to sad songs on a monday morning otw...</td>\n",
              "      <td>listen sad song monday morn otw work sad</td>\n",
              "    </tr>\n",
              "    <tr>\n",
              "      <th>31960</th>\n",
              "      <td>31961</td>\n",
              "      <td>1</td>\n",
              "      <td>@user #sikh #temple vandalised in in #calgary,...</td>\n",
              "      <td>user sikh templ vandalis calgari wso condemn act</td>\n",
              "    </tr>\n",
              "    <tr>\n",
              "      <th>31961</th>\n",
              "      <td>31962</td>\n",
              "      <td>0</td>\n",
              "      <td>thank you @user for you follow</td>\n",
              "      <td>thank user follow</td>\n",
              "    </tr>\n",
              "  </tbody>\n",
              "</table>\n",
              "<p>31962 rows × 4 columns</p>\n",
              "</div>\n",
              "      <button class=\"colab-df-convert\" onclick=\"convertToInteractive('df-6113075c-a9d9-4015-b7e4-baa978fa06f0')\"\n",
              "              title=\"Convert this dataframe to an interactive table.\"\n",
              "              style=\"display:none;\">\n",
              "        \n",
              "  <svg xmlns=\"http://www.w3.org/2000/svg\" height=\"24px\"viewBox=\"0 0 24 24\"\n",
              "       width=\"24px\">\n",
              "    <path d=\"M0 0h24v24H0V0z\" fill=\"none\"/>\n",
              "    <path d=\"M18.56 5.44l.94 2.06.94-2.06 2.06-.94-2.06-.94-.94-2.06-.94 2.06-2.06.94zm-11 1L8.5 8.5l.94-2.06 2.06-.94-2.06-.94L8.5 2.5l-.94 2.06-2.06.94zm10 10l.94 2.06.94-2.06 2.06-.94-2.06-.94-.94-2.06-.94 2.06-2.06.94z\"/><path d=\"M17.41 7.96l-1.37-1.37c-.4-.4-.92-.59-1.43-.59-.52 0-1.04.2-1.43.59L10.3 9.45l-7.72 7.72c-.78.78-.78 2.05 0 2.83L4 21.41c.39.39.9.59 1.41.59.51 0 1.02-.2 1.41-.59l7.78-7.78 2.81-2.81c.8-.78.8-2.07 0-2.86zM5.41 20L4 18.59l7.72-7.72 1.47 1.35L5.41 20z\"/>\n",
              "  </svg>\n",
              "      </button>\n",
              "      \n",
              "  <style>\n",
              "    .colab-df-container {\n",
              "      display:flex;\n",
              "      flex-wrap:wrap;\n",
              "      gap: 12px;\n",
              "    }\n",
              "\n",
              "    .colab-df-convert {\n",
              "      background-color: #E8F0FE;\n",
              "      border: none;\n",
              "      border-radius: 50%;\n",
              "      cursor: pointer;\n",
              "      display: none;\n",
              "      fill: #1967D2;\n",
              "      height: 32px;\n",
              "      padding: 0 0 0 0;\n",
              "      width: 32px;\n",
              "    }\n",
              "\n",
              "    .colab-df-convert:hover {\n",
              "      background-color: #E2EBFA;\n",
              "      box-shadow: 0px 1px 2px rgba(60, 64, 67, 0.3), 0px 1px 3px 1px rgba(60, 64, 67, 0.15);\n",
              "      fill: #174EA6;\n",
              "    }\n",
              "\n",
              "    [theme=dark] .colab-df-convert {\n",
              "      background-color: #3B4455;\n",
              "      fill: #D2E3FC;\n",
              "    }\n",
              "\n",
              "    [theme=dark] .colab-df-convert:hover {\n",
              "      background-color: #434B5C;\n",
              "      box-shadow: 0px 1px 3px 1px rgba(0, 0, 0, 0.15);\n",
              "      filter: drop-shadow(0px 1px 2px rgba(0, 0, 0, 0.3));\n",
              "      fill: #FFFFFF;\n",
              "    }\n",
              "  </style>\n",
              "\n",
              "      <script>\n",
              "        const buttonEl =\n",
              "          document.querySelector('#df-6113075c-a9d9-4015-b7e4-baa978fa06f0 button.colab-df-convert');\n",
              "        buttonEl.style.display =\n",
              "          google.colab.kernel.accessAllowed ? 'block' : 'none';\n",
              "\n",
              "        async function convertToInteractive(key) {\n",
              "          const element = document.querySelector('#df-6113075c-a9d9-4015-b7e4-baa978fa06f0');\n",
              "          const dataTable =\n",
              "            await google.colab.kernel.invokeFunction('convertToInteractive',\n",
              "                                                     [key], {});\n",
              "          if (!dataTable) return;\n",
              "\n",
              "          const docLinkHtml = 'Like what you see? Visit the ' +\n",
              "            '<a target=\"_blank\" href=https://colab.research.google.com/notebooks/data_table.ipynb>data table notebook</a>'\n",
              "            + ' to learn more about interactive tables.';\n",
              "          element.innerHTML = '';\n",
              "          dataTable['output_type'] = 'display_data';\n",
              "          await google.colab.output.renderOutput(dataTable, element);\n",
              "          const docLink = document.createElement('div');\n",
              "          docLink.innerHTML = docLinkHtml;\n",
              "          element.appendChild(docLink);\n",
              "        }\n",
              "      </script>\n",
              "    </div>\n",
              "  </div>\n",
              "  "
            ]
          },
          "metadata": {},
          "execution_count": 10
        }
      ]
    },
    {
      "cell_type": "code",
      "source": [
        "X_features = getFeaturesData(train_Df)"
      ],
      "metadata": {
        "id": "uGeADiBRuS-M"
      },
      "execution_count": null,
      "outputs": []
    },
    {
      "cell_type": "code",
      "source": [
        "yPred, model = LogisticModel(train_Df, X_features)"
      ],
      "metadata": {
        "id": "O_v1w7FFw5b6"
      },
      "execution_count": null,
      "outputs": []
    },
    {
      "cell_type": "code",
      "source": [
        "X_train, X_test, y_train, y_test = splitData(train_Df, X_features)"
      ],
      "metadata": {
        "id": "rwnnAgE4xLI6"
      },
      "execution_count": null,
      "outputs": []
    },
    {
      "cell_type": "code",
      "source": [
        "clasReport = classificationReport(y_test, yPred)"
      ],
      "metadata": {
        "id": "hRtv9o34xXST"
      },
      "execution_count": null,
      "outputs": []
    },
    {
      "cell_type": "code",
      "source": [
        "clasReport"
      ],
      "metadata": {
        "colab": {
          "base_uri": "https://localhost:8080/",
          "height": 71
        },
        "id": "T8H5p4nhxc38",
        "outputId": "dd0b0710-3c2b-44a7-ff3f-4d61aae16958"
      },
      "execution_count": null,
      "outputs": [
        {
          "output_type": "execute_result",
          "data": {
            "text/plain": [
              "'              precision    recall  f1-score   support\\n\\n           0       0.93      0.98      0.95      5948\\n           1       0.06      0.02      0.03       445\\n\\n    accuracy                           0.91      6393\\n   macro avg       0.49      0.50      0.49      6393\\nweighted avg       0.87      0.91      0.89      6393\\n'"
            ],
            "application/vnd.google.colaboratory.intrinsic+json": {
              "type": "string"
            }
          },
          "metadata": {},
          "execution_count": 56
        }
      ]
    },
    {
      "cell_type": "code",
      "source": [
        "confusionMatrix = confusionMatrix(y_test, yPred)"
      ],
      "metadata": {
        "id": "Qq0scySExcxX"
      },
      "execution_count": null,
      "outputs": []
    },
    {
      "cell_type": "code",
      "source": [
        "confusionMatrix"
      ],
      "metadata": {
        "colab": {
          "base_uri": "https://localhost:8080/"
        },
        "id": "honep5JWxiu2",
        "outputId": "78d79ae7-ff3e-4f02-ee5c-a89bb468109b"
      },
      "execution_count": null,
      "outputs": [
        {
          "output_type": "execute_result",
          "data": {
            "text/plain": [
              "array([[5792,  136],\n",
              "       [ 451,   14]])"
            ]
          },
          "metadata": {},
          "execution_count": 27
        }
      ]
    },
    {
      "cell_type": "markdown",
      "source": [
        "# Test Data"
      ],
      "metadata": {
        "id": "kGWxCLHSxwcA"
      }
    },
    {
      "cell_type": "code",
      "source": [
        "test_Df = loadData('/content/gdrive/MyDrive/test.csv')"
      ],
      "metadata": {
        "id": "40AiX5Egxx6a"
      },
      "execution_count": null,
      "outputs": []
    },
    {
      "cell_type": "code",
      "source": [
        "test_Df"
      ],
      "metadata": {
        "colab": {
          "base_uri": "https://localhost:8080/",
          "height": 423
        },
        "id": "3RWepFddx0ta",
        "outputId": "271ba06f-51cb-4d6f-81f2-23952b317019"
      },
      "execution_count": null,
      "outputs": [
        {
          "output_type": "execute_result",
          "data": {
            "text/plain": [
              "          id                                              tweet\n",
              "0      31963  #studiolife #aislife #requires #passion #dedic...\n",
              "1      31964   @user #white #supremacists want everyone to s...\n",
              "2      31965  safe ways to heal your #acne!!    #altwaystohe...\n",
              "3      31966  is the hp and the cursed child book up for res...\n",
              "4      31967    3rd #bihday to my amazing, hilarious #nephew...\n",
              "...      ...                                                ...\n",
              "17192  49155  thought factory: left-right polarisation! #tru...\n",
              "17193  49156  feeling like a mermaid ð #hairflip #neverre...\n",
              "17194  49157  #hillary #campaigned today in #ohio((omg)) &am...\n",
              "17195  49158  happy, at work conference: right mindset leads...\n",
              "17196  49159  my   song \"so glad\" free download!  #shoegaze ...\n",
              "\n",
              "[17197 rows x 2 columns]"
            ],
            "text/html": [
              "\n",
              "  <div id=\"df-118824c8-4687-432d-8c6a-ca144347e93a\">\n",
              "    <div class=\"colab-df-container\">\n",
              "      <div>\n",
              "<style scoped>\n",
              "    .dataframe tbody tr th:only-of-type {\n",
              "        vertical-align: middle;\n",
              "    }\n",
              "\n",
              "    .dataframe tbody tr th {\n",
              "        vertical-align: top;\n",
              "    }\n",
              "\n",
              "    .dataframe thead th {\n",
              "        text-align: right;\n",
              "    }\n",
              "</style>\n",
              "<table border=\"1\" class=\"dataframe\">\n",
              "  <thead>\n",
              "    <tr style=\"text-align: right;\">\n",
              "      <th></th>\n",
              "      <th>id</th>\n",
              "      <th>tweet</th>\n",
              "    </tr>\n",
              "  </thead>\n",
              "  <tbody>\n",
              "    <tr>\n",
              "      <th>0</th>\n",
              "      <td>31963</td>\n",
              "      <td>#studiolife #aislife #requires #passion #dedic...</td>\n",
              "    </tr>\n",
              "    <tr>\n",
              "      <th>1</th>\n",
              "      <td>31964</td>\n",
              "      <td>@user #white #supremacists want everyone to s...</td>\n",
              "    </tr>\n",
              "    <tr>\n",
              "      <th>2</th>\n",
              "      <td>31965</td>\n",
              "      <td>safe ways to heal your #acne!!    #altwaystohe...</td>\n",
              "    </tr>\n",
              "    <tr>\n",
              "      <th>3</th>\n",
              "      <td>31966</td>\n",
              "      <td>is the hp and the cursed child book up for res...</td>\n",
              "    </tr>\n",
              "    <tr>\n",
              "      <th>4</th>\n",
              "      <td>31967</td>\n",
              "      <td>3rd #bihday to my amazing, hilarious #nephew...</td>\n",
              "    </tr>\n",
              "    <tr>\n",
              "      <th>...</th>\n",
              "      <td>...</td>\n",
              "      <td>...</td>\n",
              "    </tr>\n",
              "    <tr>\n",
              "      <th>17192</th>\n",
              "      <td>49155</td>\n",
              "      <td>thought factory: left-right polarisation! #tru...</td>\n",
              "    </tr>\n",
              "    <tr>\n",
              "      <th>17193</th>\n",
              "      <td>49156</td>\n",
              "      <td>feeling like a mermaid ð #hairflip #neverre...</td>\n",
              "    </tr>\n",
              "    <tr>\n",
              "      <th>17194</th>\n",
              "      <td>49157</td>\n",
              "      <td>#hillary #campaigned today in #ohio((omg)) &amp;am...</td>\n",
              "    </tr>\n",
              "    <tr>\n",
              "      <th>17195</th>\n",
              "      <td>49158</td>\n",
              "      <td>happy, at work conference: right mindset leads...</td>\n",
              "    </tr>\n",
              "    <tr>\n",
              "      <th>17196</th>\n",
              "      <td>49159</td>\n",
              "      <td>my   song \"so glad\" free download!  #shoegaze ...</td>\n",
              "    </tr>\n",
              "  </tbody>\n",
              "</table>\n",
              "<p>17197 rows × 2 columns</p>\n",
              "</div>\n",
              "      <button class=\"colab-df-convert\" onclick=\"convertToInteractive('df-118824c8-4687-432d-8c6a-ca144347e93a')\"\n",
              "              title=\"Convert this dataframe to an interactive table.\"\n",
              "              style=\"display:none;\">\n",
              "        \n",
              "  <svg xmlns=\"http://www.w3.org/2000/svg\" height=\"24px\"viewBox=\"0 0 24 24\"\n",
              "       width=\"24px\">\n",
              "    <path d=\"M0 0h24v24H0V0z\" fill=\"none\"/>\n",
              "    <path d=\"M18.56 5.44l.94 2.06.94-2.06 2.06-.94-2.06-.94-.94-2.06-.94 2.06-2.06.94zm-11 1L8.5 8.5l.94-2.06 2.06-.94-2.06-.94L8.5 2.5l-.94 2.06-2.06.94zm10 10l.94 2.06.94-2.06 2.06-.94-2.06-.94-.94-2.06-.94 2.06-2.06.94z\"/><path d=\"M17.41 7.96l-1.37-1.37c-.4-.4-.92-.59-1.43-.59-.52 0-1.04.2-1.43.59L10.3 9.45l-7.72 7.72c-.78.78-.78 2.05 0 2.83L4 21.41c.39.39.9.59 1.41.59.51 0 1.02-.2 1.41-.59l7.78-7.78 2.81-2.81c.8-.78.8-2.07 0-2.86zM5.41 20L4 18.59l7.72-7.72 1.47 1.35L5.41 20z\"/>\n",
              "  </svg>\n",
              "      </button>\n",
              "      \n",
              "  <style>\n",
              "    .colab-df-container {\n",
              "      display:flex;\n",
              "      flex-wrap:wrap;\n",
              "      gap: 12px;\n",
              "    }\n",
              "\n",
              "    .colab-df-convert {\n",
              "      background-color: #E8F0FE;\n",
              "      border: none;\n",
              "      border-radius: 50%;\n",
              "      cursor: pointer;\n",
              "      display: none;\n",
              "      fill: #1967D2;\n",
              "      height: 32px;\n",
              "      padding: 0 0 0 0;\n",
              "      width: 32px;\n",
              "    }\n",
              "\n",
              "    .colab-df-convert:hover {\n",
              "      background-color: #E2EBFA;\n",
              "      box-shadow: 0px 1px 2px rgba(60, 64, 67, 0.3), 0px 1px 3px 1px rgba(60, 64, 67, 0.15);\n",
              "      fill: #174EA6;\n",
              "    }\n",
              "\n",
              "    [theme=dark] .colab-df-convert {\n",
              "      background-color: #3B4455;\n",
              "      fill: #D2E3FC;\n",
              "    }\n",
              "\n",
              "    [theme=dark] .colab-df-convert:hover {\n",
              "      background-color: #434B5C;\n",
              "      box-shadow: 0px 1px 3px 1px rgba(0, 0, 0, 0.15);\n",
              "      filter: drop-shadow(0px 1px 2px rgba(0, 0, 0, 0.3));\n",
              "      fill: #FFFFFF;\n",
              "    }\n",
              "  </style>\n",
              "\n",
              "      <script>\n",
              "        const buttonEl =\n",
              "          document.querySelector('#df-118824c8-4687-432d-8c6a-ca144347e93a button.colab-df-convert');\n",
              "        buttonEl.style.display =\n",
              "          google.colab.kernel.accessAllowed ? 'block' : 'none';\n",
              "\n",
              "        async function convertToInteractive(key) {\n",
              "          const element = document.querySelector('#df-118824c8-4687-432d-8c6a-ca144347e93a');\n",
              "          const dataTable =\n",
              "            await google.colab.kernel.invokeFunction('convertToInteractive',\n",
              "                                                     [key], {});\n",
              "          if (!dataTable) return;\n",
              "\n",
              "          const docLinkHtml = 'Like what you see? Visit the ' +\n",
              "            '<a target=\"_blank\" href=https://colab.research.google.com/notebooks/data_table.ipynb>data table notebook</a>'\n",
              "            + ' to learn more about interactive tables.';\n",
              "          element.innerHTML = '';\n",
              "          dataTable['output_type'] = 'display_data';\n",
              "          await google.colab.output.renderOutput(dataTable, element);\n",
              "          const docLink = document.createElement('div');\n",
              "          docLink.innerHTML = docLinkHtml;\n",
              "          element.appendChild(docLink);\n",
              "        }\n",
              "      </script>\n",
              "    </div>\n",
              "  </div>\n",
              "  "
            ]
          },
          "metadata": {},
          "execution_count": 15
        }
      ]
    },
    {
      "cell_type": "code",
      "source": [
        "cleanedtextList = test_Df['tweet']\n",
        "cleanedtextList = lowerCase(cleanedtextList)\n",
        "cleanedtextList = removePunctuation(cleanedtextList)\n",
        "cleanedtextList = removeSpecialCharcters(cleanedtextList)\n",
        "cleanedtextList = removeStopWords(cleanedtextList)\n",
        "cleanedtextList = Tokenisation(cleanedtextList)\n",
        "cleanedtextList = stemming(cleanedtextList)\n",
        "cleanedtextList = lemmitization(cleanedtextList)"
      ],
      "metadata": {
        "colab": {
          "base_uri": "https://localhost:8080/"
        },
        "id": "gKg019Vkx3C-",
        "outputId": "9a1293d6-9bb2-49c9-d317-bb624eba1533"
      },
      "execution_count": null,
      "outputs": [
        {
          "output_type": "stream",
          "name": "stderr",
          "text": [
            "/usr/local/lib/python3.7/dist-packages/ipykernel_launcher.py:26: FutureWarning: The default value of regex will change from True to False in a future version.\n"
          ]
        }
      ]
    },
    {
      "cell_type": "code",
      "source": [
        "test_Df['cleanedtextList'] = cleanedtextList"
      ],
      "metadata": {
        "id": "ElA_GEhVx55o"
      },
      "execution_count": null,
      "outputs": []
    },
    {
      "cell_type": "code",
      "source": [
        "test_Df"
      ],
      "metadata": {
        "colab": {
          "base_uri": "https://localhost:8080/",
          "height": 423
        },
        "id": "lfNwUZBUyqRM",
        "outputId": "300e580c-7419-4523-afbb-884e99d47647"
      },
      "execution_count": null,
      "outputs": [
        {
          "output_type": "execute_result",
          "data": {
            "text/plain": [
              "          id                                              tweet  \\\n",
              "0      31963  #studiolife #aislife #requires #passion #dedic...   \n",
              "1      31964   @user #white #supremacists want everyone to s...   \n",
              "2      31965  safe ways to heal your #acne!!    #altwaystohe...   \n",
              "3      31966  is the hp and the cursed child book up for res...   \n",
              "4      31967    3rd #bihday to my amazing, hilarious #nephew...   \n",
              "...      ...                                                ...   \n",
              "17192  49155  thought factory: left-right polarisation! #tru...   \n",
              "17193  49156  feeling like a mermaid ð #hairflip #neverre...   \n",
              "17194  49157  #hillary #campaigned today in #ohio((omg)) &am...   \n",
              "17195  49158  happy, at work conference: right mindset leads...   \n",
              "17196  49159  my   song \"so glad\" free download!  #shoegaze ...   \n",
              "\n",
              "                                         cleanedtextList  \n",
              "0      studiolif aislif requir passion dedic willpow ...  \n",
              "1      user white supremacist want everyon see new bi...  \n",
              "2              safe way heal acn altwaystoh healthi heal  \n",
              "3      hp cur child book reserv alreadi ye harrypott ...  \n",
              "4      3rd bihday amaz hilari nephew eli ahmir uncl d...  \n",
              "...                                                  ...  \n",
              "17192  thought factori leftright polaris trump uselec...  \n",
              "17193  feel like mermaid hairflip neverreadi formal w...  \n",
              "17194  hillari campaign today ohioomg amp use word li...  \n",
              "17195  happi work confer right mindset lead cultureof...  \n",
              "17196     song glad free download shoegaz newmus newsong  \n",
              "\n",
              "[17197 rows x 3 columns]"
            ],
            "text/html": [
              "\n",
              "  <div id=\"df-eccc4ebe-7655-40a9-966f-fb878c27276b\">\n",
              "    <div class=\"colab-df-container\">\n",
              "      <div>\n",
              "<style scoped>\n",
              "    .dataframe tbody tr th:only-of-type {\n",
              "        vertical-align: middle;\n",
              "    }\n",
              "\n",
              "    .dataframe tbody tr th {\n",
              "        vertical-align: top;\n",
              "    }\n",
              "\n",
              "    .dataframe thead th {\n",
              "        text-align: right;\n",
              "    }\n",
              "</style>\n",
              "<table border=\"1\" class=\"dataframe\">\n",
              "  <thead>\n",
              "    <tr style=\"text-align: right;\">\n",
              "      <th></th>\n",
              "      <th>id</th>\n",
              "      <th>tweet</th>\n",
              "      <th>cleanedtextList</th>\n",
              "    </tr>\n",
              "  </thead>\n",
              "  <tbody>\n",
              "    <tr>\n",
              "      <th>0</th>\n",
              "      <td>31963</td>\n",
              "      <td>#studiolife #aislife #requires #passion #dedic...</td>\n",
              "      <td>studiolif aislif requir passion dedic willpow ...</td>\n",
              "    </tr>\n",
              "    <tr>\n",
              "      <th>1</th>\n",
              "      <td>31964</td>\n",
              "      <td>@user #white #supremacists want everyone to s...</td>\n",
              "      <td>user white supremacist want everyon see new bi...</td>\n",
              "    </tr>\n",
              "    <tr>\n",
              "      <th>2</th>\n",
              "      <td>31965</td>\n",
              "      <td>safe ways to heal your #acne!!    #altwaystohe...</td>\n",
              "      <td>safe way heal acn altwaystoh healthi heal</td>\n",
              "    </tr>\n",
              "    <tr>\n",
              "      <th>3</th>\n",
              "      <td>31966</td>\n",
              "      <td>is the hp and the cursed child book up for res...</td>\n",
              "      <td>hp cur child book reserv alreadi ye harrypott ...</td>\n",
              "    </tr>\n",
              "    <tr>\n",
              "      <th>4</th>\n",
              "      <td>31967</td>\n",
              "      <td>3rd #bihday to my amazing, hilarious #nephew...</td>\n",
              "      <td>3rd bihday amaz hilari nephew eli ahmir uncl d...</td>\n",
              "    </tr>\n",
              "    <tr>\n",
              "      <th>...</th>\n",
              "      <td>...</td>\n",
              "      <td>...</td>\n",
              "      <td>...</td>\n",
              "    </tr>\n",
              "    <tr>\n",
              "      <th>17192</th>\n",
              "      <td>49155</td>\n",
              "      <td>thought factory: left-right polarisation! #tru...</td>\n",
              "      <td>thought factori leftright polaris trump uselec...</td>\n",
              "    </tr>\n",
              "    <tr>\n",
              "      <th>17193</th>\n",
              "      <td>49156</td>\n",
              "      <td>feeling like a mermaid ð #hairflip #neverre...</td>\n",
              "      <td>feel like mermaid hairflip neverreadi formal w...</td>\n",
              "    </tr>\n",
              "    <tr>\n",
              "      <th>17194</th>\n",
              "      <td>49157</td>\n",
              "      <td>#hillary #campaigned today in #ohio((omg)) &amp;am...</td>\n",
              "      <td>hillari campaign today ohioomg amp use word li...</td>\n",
              "    </tr>\n",
              "    <tr>\n",
              "      <th>17195</th>\n",
              "      <td>49158</td>\n",
              "      <td>happy, at work conference: right mindset leads...</td>\n",
              "      <td>happi work confer right mindset lead cultureof...</td>\n",
              "    </tr>\n",
              "    <tr>\n",
              "      <th>17196</th>\n",
              "      <td>49159</td>\n",
              "      <td>my   song \"so glad\" free download!  #shoegaze ...</td>\n",
              "      <td>song glad free download shoegaz newmus newsong</td>\n",
              "    </tr>\n",
              "  </tbody>\n",
              "</table>\n",
              "<p>17197 rows × 3 columns</p>\n",
              "</div>\n",
              "      <button class=\"colab-df-convert\" onclick=\"convertToInteractive('df-eccc4ebe-7655-40a9-966f-fb878c27276b')\"\n",
              "              title=\"Convert this dataframe to an interactive table.\"\n",
              "              style=\"display:none;\">\n",
              "        \n",
              "  <svg xmlns=\"http://www.w3.org/2000/svg\" height=\"24px\"viewBox=\"0 0 24 24\"\n",
              "       width=\"24px\">\n",
              "    <path d=\"M0 0h24v24H0V0z\" fill=\"none\"/>\n",
              "    <path d=\"M18.56 5.44l.94 2.06.94-2.06 2.06-.94-2.06-.94-.94-2.06-.94 2.06-2.06.94zm-11 1L8.5 8.5l.94-2.06 2.06-.94-2.06-.94L8.5 2.5l-.94 2.06-2.06.94zm10 10l.94 2.06.94-2.06 2.06-.94-2.06-.94-.94-2.06-.94 2.06-2.06.94z\"/><path d=\"M17.41 7.96l-1.37-1.37c-.4-.4-.92-.59-1.43-.59-.52 0-1.04.2-1.43.59L10.3 9.45l-7.72 7.72c-.78.78-.78 2.05 0 2.83L4 21.41c.39.39.9.59 1.41.59.51 0 1.02-.2 1.41-.59l7.78-7.78 2.81-2.81c.8-.78.8-2.07 0-2.86zM5.41 20L4 18.59l7.72-7.72 1.47 1.35L5.41 20z\"/>\n",
              "  </svg>\n",
              "      </button>\n",
              "      \n",
              "  <style>\n",
              "    .colab-df-container {\n",
              "      display:flex;\n",
              "      flex-wrap:wrap;\n",
              "      gap: 12px;\n",
              "    }\n",
              "\n",
              "    .colab-df-convert {\n",
              "      background-color: #E8F0FE;\n",
              "      border: none;\n",
              "      border-radius: 50%;\n",
              "      cursor: pointer;\n",
              "      display: none;\n",
              "      fill: #1967D2;\n",
              "      height: 32px;\n",
              "      padding: 0 0 0 0;\n",
              "      width: 32px;\n",
              "    }\n",
              "\n",
              "    .colab-df-convert:hover {\n",
              "      background-color: #E2EBFA;\n",
              "      box-shadow: 0px 1px 2px rgba(60, 64, 67, 0.3), 0px 1px 3px 1px rgba(60, 64, 67, 0.15);\n",
              "      fill: #174EA6;\n",
              "    }\n",
              "\n",
              "    [theme=dark] .colab-df-convert {\n",
              "      background-color: #3B4455;\n",
              "      fill: #D2E3FC;\n",
              "    }\n",
              "\n",
              "    [theme=dark] .colab-df-convert:hover {\n",
              "      background-color: #434B5C;\n",
              "      box-shadow: 0px 1px 3px 1px rgba(0, 0, 0, 0.15);\n",
              "      filter: drop-shadow(0px 1px 2px rgba(0, 0, 0, 0.3));\n",
              "      fill: #FFFFFF;\n",
              "    }\n",
              "  </style>\n",
              "\n",
              "      <script>\n",
              "        const buttonEl =\n",
              "          document.querySelector('#df-eccc4ebe-7655-40a9-966f-fb878c27276b button.colab-df-convert');\n",
              "        buttonEl.style.display =\n",
              "          google.colab.kernel.accessAllowed ? 'block' : 'none';\n",
              "\n",
              "        async function convertToInteractive(key) {\n",
              "          const element = document.querySelector('#df-eccc4ebe-7655-40a9-966f-fb878c27276b');\n",
              "          const dataTable =\n",
              "            await google.colab.kernel.invokeFunction('convertToInteractive',\n",
              "                                                     [key], {});\n",
              "          if (!dataTable) return;\n",
              "\n",
              "          const docLinkHtml = 'Like what you see? Visit the ' +\n",
              "            '<a target=\"_blank\" href=https://colab.research.google.com/notebooks/data_table.ipynb>data table notebook</a>'\n",
              "            + ' to learn more about interactive tables.';\n",
              "          element.innerHTML = '';\n",
              "          dataTable['output_type'] = 'display_data';\n",
              "          await google.colab.output.renderOutput(dataTable, element);\n",
              "          const docLink = document.createElement('div');\n",
              "          docLink.innerHTML = docLinkHtml;\n",
              "          element.appendChild(docLink);\n",
              "        }\n",
              "      </script>\n",
              "    </div>\n",
              "  </div>\n",
              "  "
            ]
          },
          "metadata": {},
          "execution_count": 18
        }
      ]
    },
    {
      "cell_type": "code",
      "source": [
        "from sklearn.feature_extraction.text import TfidfVectorizer"
      ],
      "metadata": {
        "id": "6JdkMuGszBjw"
      },
      "execution_count": null,
      "outputs": []
    },
    {
      "cell_type": "code",
      "source": [
        "vectorizer = TfidfVectorizer(min_df = 3,\n",
        "                             ngram_range=(1, 2))"
      ],
      "metadata": {
        "id": "0DzKm2bQyzHZ"
      },
      "execution_count": null,
      "outputs": []
    },
    {
      "cell_type": "code",
      "source": [
        "test_Df"
      ],
      "metadata": {
        "colab": {
          "base_uri": "https://localhost:8080/",
          "height": 423
        },
        "id": "vghdlvx_zlQp",
        "outputId": "eb7e473c-5889-4000-c5ea-6209ebf363f6"
      },
      "execution_count": null,
      "outputs": [
        {
          "output_type": "execute_result",
          "data": {
            "text/plain": [
              "          id                                              tweet  \\\n",
              "0      31963  #studiolife #aislife #requires #passion #dedic...   \n",
              "1      31964   @user #white #supremacists want everyone to s...   \n",
              "2      31965  safe ways to heal your #acne!!    #altwaystohe...   \n",
              "3      31966  is the hp and the cursed child book up for res...   \n",
              "4      31967    3rd #bihday to my amazing, hilarious #nephew...   \n",
              "...      ...                                                ...   \n",
              "17192  49155  thought factory: left-right polarisation! #tru...   \n",
              "17193  49156  feeling like a mermaid ð #hairflip #neverre...   \n",
              "17194  49157  #hillary #campaigned today in #ohio((omg)) &am...   \n",
              "17195  49158  happy, at work conference: right mindset leads...   \n",
              "17196  49159  my   song \"so glad\" free download!  #shoegaze ...   \n",
              "\n",
              "                                         cleanedtextList  \n",
              "0      studiolif aislif requir passion dedic willpow ...  \n",
              "1      user white supremacist want everyon see new bi...  \n",
              "2              safe way heal acn altwaystoh healthi heal  \n",
              "3      hp cur child book reserv alreadi ye harrypott ...  \n",
              "4      3rd bihday amaz hilari nephew eli ahmir uncl d...  \n",
              "...                                                  ...  \n",
              "17192  thought factori leftright polaris trump uselec...  \n",
              "17193  feel like mermaid hairflip neverreadi formal w...  \n",
              "17194  hillari campaign today ohioomg amp use word li...  \n",
              "17195  happi work confer right mindset lead cultureof...  \n",
              "17196     song glad free download shoegaz newmus newsong  \n",
              "\n",
              "[17197 rows x 3 columns]"
            ],
            "text/html": [
              "\n",
              "  <div id=\"df-86e41cc7-8982-45c6-900f-e7e7b3f148bd\">\n",
              "    <div class=\"colab-df-container\">\n",
              "      <div>\n",
              "<style scoped>\n",
              "    .dataframe tbody tr th:only-of-type {\n",
              "        vertical-align: middle;\n",
              "    }\n",
              "\n",
              "    .dataframe tbody tr th {\n",
              "        vertical-align: top;\n",
              "    }\n",
              "\n",
              "    .dataframe thead th {\n",
              "        text-align: right;\n",
              "    }\n",
              "</style>\n",
              "<table border=\"1\" class=\"dataframe\">\n",
              "  <thead>\n",
              "    <tr style=\"text-align: right;\">\n",
              "      <th></th>\n",
              "      <th>id</th>\n",
              "      <th>tweet</th>\n",
              "      <th>cleanedtextList</th>\n",
              "    </tr>\n",
              "  </thead>\n",
              "  <tbody>\n",
              "    <tr>\n",
              "      <th>0</th>\n",
              "      <td>31963</td>\n",
              "      <td>#studiolife #aislife #requires #passion #dedic...</td>\n",
              "      <td>studiolif aislif requir passion dedic willpow ...</td>\n",
              "    </tr>\n",
              "    <tr>\n",
              "      <th>1</th>\n",
              "      <td>31964</td>\n",
              "      <td>@user #white #supremacists want everyone to s...</td>\n",
              "      <td>user white supremacist want everyon see new bi...</td>\n",
              "    </tr>\n",
              "    <tr>\n",
              "      <th>2</th>\n",
              "      <td>31965</td>\n",
              "      <td>safe ways to heal your #acne!!    #altwaystohe...</td>\n",
              "      <td>safe way heal acn altwaystoh healthi heal</td>\n",
              "    </tr>\n",
              "    <tr>\n",
              "      <th>3</th>\n",
              "      <td>31966</td>\n",
              "      <td>is the hp and the cursed child book up for res...</td>\n",
              "      <td>hp cur child book reserv alreadi ye harrypott ...</td>\n",
              "    </tr>\n",
              "    <tr>\n",
              "      <th>4</th>\n",
              "      <td>31967</td>\n",
              "      <td>3rd #bihday to my amazing, hilarious #nephew...</td>\n",
              "      <td>3rd bihday amaz hilari nephew eli ahmir uncl d...</td>\n",
              "    </tr>\n",
              "    <tr>\n",
              "      <th>...</th>\n",
              "      <td>...</td>\n",
              "      <td>...</td>\n",
              "      <td>...</td>\n",
              "    </tr>\n",
              "    <tr>\n",
              "      <th>17192</th>\n",
              "      <td>49155</td>\n",
              "      <td>thought factory: left-right polarisation! #tru...</td>\n",
              "      <td>thought factori leftright polaris trump uselec...</td>\n",
              "    </tr>\n",
              "    <tr>\n",
              "      <th>17193</th>\n",
              "      <td>49156</td>\n",
              "      <td>feeling like a mermaid ð #hairflip #neverre...</td>\n",
              "      <td>feel like mermaid hairflip neverreadi formal w...</td>\n",
              "    </tr>\n",
              "    <tr>\n",
              "      <th>17194</th>\n",
              "      <td>49157</td>\n",
              "      <td>#hillary #campaigned today in #ohio((omg)) &amp;am...</td>\n",
              "      <td>hillari campaign today ohioomg amp use word li...</td>\n",
              "    </tr>\n",
              "    <tr>\n",
              "      <th>17195</th>\n",
              "      <td>49158</td>\n",
              "      <td>happy, at work conference: right mindset leads...</td>\n",
              "      <td>happi work confer right mindset lead cultureof...</td>\n",
              "    </tr>\n",
              "    <tr>\n",
              "      <th>17196</th>\n",
              "      <td>49159</td>\n",
              "      <td>my   song \"so glad\" free download!  #shoegaze ...</td>\n",
              "      <td>song glad free download shoegaz newmus newsong</td>\n",
              "    </tr>\n",
              "  </tbody>\n",
              "</table>\n",
              "<p>17197 rows × 3 columns</p>\n",
              "</div>\n",
              "      <button class=\"colab-df-convert\" onclick=\"convertToInteractive('df-86e41cc7-8982-45c6-900f-e7e7b3f148bd')\"\n",
              "              title=\"Convert this dataframe to an interactive table.\"\n",
              "              style=\"display:none;\">\n",
              "        \n",
              "  <svg xmlns=\"http://www.w3.org/2000/svg\" height=\"24px\"viewBox=\"0 0 24 24\"\n",
              "       width=\"24px\">\n",
              "    <path d=\"M0 0h24v24H0V0z\" fill=\"none\"/>\n",
              "    <path d=\"M18.56 5.44l.94 2.06.94-2.06 2.06-.94-2.06-.94-.94-2.06-.94 2.06-2.06.94zm-11 1L8.5 8.5l.94-2.06 2.06-.94-2.06-.94L8.5 2.5l-.94 2.06-2.06.94zm10 10l.94 2.06.94-2.06 2.06-.94-2.06-.94-.94-2.06-.94 2.06-2.06.94z\"/><path d=\"M17.41 7.96l-1.37-1.37c-.4-.4-.92-.59-1.43-.59-.52 0-1.04.2-1.43.59L10.3 9.45l-7.72 7.72c-.78.78-.78 2.05 0 2.83L4 21.41c.39.39.9.59 1.41.59.51 0 1.02-.2 1.41-.59l7.78-7.78 2.81-2.81c.8-.78.8-2.07 0-2.86zM5.41 20L4 18.59l7.72-7.72 1.47 1.35L5.41 20z\"/>\n",
              "  </svg>\n",
              "      </button>\n",
              "      \n",
              "  <style>\n",
              "    .colab-df-container {\n",
              "      display:flex;\n",
              "      flex-wrap:wrap;\n",
              "      gap: 12px;\n",
              "    }\n",
              "\n",
              "    .colab-df-convert {\n",
              "      background-color: #E8F0FE;\n",
              "      border: none;\n",
              "      border-radius: 50%;\n",
              "      cursor: pointer;\n",
              "      display: none;\n",
              "      fill: #1967D2;\n",
              "      height: 32px;\n",
              "      padding: 0 0 0 0;\n",
              "      width: 32px;\n",
              "    }\n",
              "\n",
              "    .colab-df-convert:hover {\n",
              "      background-color: #E2EBFA;\n",
              "      box-shadow: 0px 1px 2px rgba(60, 64, 67, 0.3), 0px 1px 3px 1px rgba(60, 64, 67, 0.15);\n",
              "      fill: #174EA6;\n",
              "    }\n",
              "\n",
              "    [theme=dark] .colab-df-convert {\n",
              "      background-color: #3B4455;\n",
              "      fill: #D2E3FC;\n",
              "    }\n",
              "\n",
              "    [theme=dark] .colab-df-convert:hover {\n",
              "      background-color: #434B5C;\n",
              "      box-shadow: 0px 1px 3px 1px rgba(0, 0, 0, 0.15);\n",
              "      filter: drop-shadow(0px 1px 2px rgba(0, 0, 0, 0.3));\n",
              "      fill: #FFFFFF;\n",
              "    }\n",
              "  </style>\n",
              "\n",
              "      <script>\n",
              "        const buttonEl =\n",
              "          document.querySelector('#df-86e41cc7-8982-45c6-900f-e7e7b3f148bd button.colab-df-convert');\n",
              "        buttonEl.style.display =\n",
              "          google.colab.kernel.accessAllowed ? 'block' : 'none';\n",
              "\n",
              "        async function convertToInteractive(key) {\n",
              "          const element = document.querySelector('#df-86e41cc7-8982-45c6-900f-e7e7b3f148bd');\n",
              "          const dataTable =\n",
              "            await google.colab.kernel.invokeFunction('convertToInteractive',\n",
              "                                                     [key], {});\n",
              "          if (!dataTable) return;\n",
              "\n",
              "          const docLinkHtml = 'Like what you see? Visit the ' +\n",
              "            '<a target=\"_blank\" href=https://colab.research.google.com/notebooks/data_table.ipynb>data table notebook</a>'\n",
              "            + ' to learn more about interactive tables.';\n",
              "          element.innerHTML = '';\n",
              "          dataTable['output_type'] = 'display_data';\n",
              "          await google.colab.output.renderOutput(dataTable, element);\n",
              "          const docLink = document.createElement('div');\n",
              "          docLink.innerHTML = docLinkHtml;\n",
              "          element.appendChild(docLink);\n",
              "        }\n",
              "      </script>\n",
              "    </div>\n",
              "  </div>\n",
              "  "
            ]
          },
          "metadata": {},
          "execution_count": 21
        }
      ]
    },
    {
      "cell_type": "code",
      "source": [
        "test_data_features = getFeaturesData(test_Df)\n",
        "print(test_data_features)"
      ],
      "metadata": {
        "colab": {
          "base_uri": "https://localhost:8080/"
        },
        "id": "JorXj6-m0ViZ",
        "outputId": "7136ce18-75c6-44b2-c56e-e39e12444812"
      },
      "execution_count": null,
      "outputs": [
        {
          "output_type": "stream",
          "name": "stdout",
          "text": [
            "[[0. 0. 0. ... 0. 0. 0.]\n",
            " [0. 0. 0. ... 0. 0. 0.]\n",
            " [0. 0. 0. ... 0. 0. 0.]\n",
            " ...\n",
            " [0. 0. 0. ... 0. 0. 0.]\n",
            " [0. 0. 0. ... 0. 0. 0.]\n",
            " [0. 0. 0. ... 0. 0. 0.]]\n"
          ]
        }
      ]
    },
    {
      "cell_type": "code",
      "source": [
        "model"
      ],
      "metadata": {
        "id": "gXVIcfGo2IYQ",
        "outputId": "4285360b-2af5-4531-bd5b-d58ca1e1e1f9",
        "colab": {
          "base_uri": "https://localhost:8080/"
        }
      },
      "execution_count": null,
      "outputs": [
        {
          "output_type": "execute_result",
          "data": {
            "text/plain": [
              "LogisticRegression()"
            ]
          },
          "metadata": {},
          "execution_count": 28
        }
      ]
    }
  ],
  "metadata": {
    "kernelspec": {
      "display_name": "Python 3",
      "language": "python",
      "name": "python3"
    },
    "language_info": {
      "codemirror_mode": {
        "name": "ipython",
        "version": 3
      },
      "file_extension": ".py",
      "mimetype": "text/x-python",
      "name": "python",
      "nbconvert_exporter": "python",
      "pygments_lexer": "ipython3",
      "version": "3.8.5"
    },
    "colab": {
      "name": "Assignment75502.ipynb",
      "provenance": [],
      "include_colab_link": true
    }
  },
  "nbformat": 4,
  "nbformat_minor": 0
}