{
  "cells": [
    {
      "cell_type": "markdown",
      "metadata": {
        "id": "view-in-github",
        "colab_type": "text"
      },
      "source": [
        "<a href=\"https://colab.research.google.com/github/GillalaJeevana/Jeevana_INFO5502_Spring2022/blob/main/lab_assignment_02_(7).ipynb\" target=\"_parent\"><img src=\"https://colab.research.google.com/assets/colab-badge.svg\" alt=\"Open In Colab\"/></a>"
      ]
    },
    {
      "cell_type": "markdown",
      "metadata": {
        "id": "Ryk8D1Q4Wsrp"
      },
      "source": [
        "# **The second Lab-assignment (02/04/2022, 50 points in total)**"
      ]
    },
    {
      "cell_type": "markdown",
      "metadata": {
        "id": "90_NR8c5XGWc"
      },
      "source": [
        "# Question 1\n",
        "\n",
        "(5 points). Write a Python program to generate 12 random numbers between 1 and 100. Sort the list of numbers in ascending order and print it out. Sort the list of numbers in descending order and print it out. Calculate the average for the group and print it out."
      ]
    },
    {
      "cell_type": "code",
      "execution_count": 1,
      "metadata": {
        "id": "5QX6bJjGWXY9"
      },
      "outputs": [],
      "source": [
        "# Your code here\n",
        "import random\n",
        "def generateRandomNumbers(start,end,length):\n",
        "  numberList = random.sample(range(start, end), length)\n",
        "  return numberList"
      ]
    },
    {
      "cell_type": "code",
      "source": [
        "numbers = generateRandomNumbers(1, 100, 12)\n",
        "print(numbers)"
      ],
      "metadata": {
        "id": "ms6BHBO21gQs",
        "colab": {
          "base_uri": "https://localhost:8080/"
        },
        "outputId": "7bdd55d9-3f98-4c69-d850-9b2da3514a42"
      },
      "execution_count": 40,
      "outputs": [
        {
          "output_type": "stream",
          "name": "stdout",
          "text": [
            "[61, 38, 44, 73, 53, 68, 90, 39, 78, 51, 66, 43]\n"
          ]
        }
      ]
    },
    {
      "cell_type": "markdown",
      "source": [
        "# Ascending"
      ],
      "metadata": {
        "id": "Qp9-gxlw2EEb"
      }
    },
    {
      "cell_type": "code",
      "source": [
        "sorted(numbers)"
      ],
      "metadata": {
        "colab": {
          "base_uri": "https://localhost:8080/"
        },
        "id": "aMAQ0RBH18Fo",
        "outputId": "84c660be-878d-4232-dfe3-f009410a5296"
      },
      "execution_count": 41,
      "outputs": [
        {
          "output_type": "execute_result",
          "data": {
            "text/plain": [
              "[38, 39, 43, 44, 51, 53, 61, 66, 68, 73, 78, 90]"
            ]
          },
          "metadata": {},
          "execution_count": 41
        }
      ]
    },
    {
      "cell_type": "markdown",
      "source": [
        "# Descending"
      ],
      "metadata": {
        "id": "Eua5lE4A2KTL"
      }
    },
    {
      "cell_type": "code",
      "source": [
        "sorted(numbers, reverse=True)"
      ],
      "metadata": {
        "colab": {
          "base_uri": "https://localhost:8080/"
        },
        "id": "ucw6hZNW2Mue",
        "outputId": "b77af044-dbc1-4953-8800-2a92dc21f1d9"
      },
      "execution_count": 42,
      "outputs": [
        {
          "output_type": "execute_result",
          "data": {
            "text/plain": [
              "[90, 78, 73, 68, 66, 61, 53, 51, 44, 43, 39, 38]"
            ]
          },
          "metadata": {},
          "execution_count": 42
        }
      ]
    },
    {
      "cell_type": "markdown",
      "source": [
        "# Average"
      ],
      "metadata": {
        "id": "f5aOgnCu2XM6"
      }
    },
    {
      "cell_type": "code",
      "source": [
        "from statistics import mean\n",
        "\n",
        "mean(numbers)"
      ],
      "metadata": {
        "colab": {
          "base_uri": "https://localhost:8080/"
        },
        "id": "LmMrFSqx2OKP",
        "outputId": "12ecb7da-e6ef-458b-afcb-633c9540b2c0"
      },
      "execution_count": 43,
      "outputs": [
        {
          "output_type": "execute_result",
          "data": {
            "text/plain": [
              "58.666666666666664"
            ]
          },
          "metadata": {},
          "execution_count": 43
        }
      ]
    },
    {
      "cell_type": "markdown",
      "metadata": {
        "id": "1F_PZdH9Sh49"
      },
      "source": [
        "# Question 2\n",
        "(20 points). Write a program that will do the following string formatting tasks:\n",
        "\n",
        "(1) Ask the user to enter two sentences.\n",
        "\n",
        "(2) Make each sentence into a list. Each element in the list should correspond to a word in the sentence. For example, if the sentence is \"Alas! Am I alive? This is my first python program\", the program should print out ['Alas, '!', 'Am', 'I', 'alive, '?', 'This', 'is', 'my', 'first', 'python', 'program'].\n",
        "\n",
        "(3) Compare the two sentences. Print out a list of words that occur in both sentences.\n",
        "\n",
        "(4) Remove any punctuation from the sentence and print it back out. It should remove at least the following characters, but it can remove more: period(“.”), comma (“,”), semicolon (“;”), and colon (“:”)\n",
        "\n",
        "(5) Count the number of vowels in the sentences. Print out each vowel and the number of times it appears in the sentences, such as: a:2, e:1, i:0, etc"
      ]
    },
    {
      "cell_type": "code",
      "execution_count": 44,
      "metadata": {
        "colab": {
          "base_uri": "https://localhost:8080/"
        },
        "id": "Y0oOSlsOS0cq",
        "outputId": "0c83deb5-7667-40af-f9c9-31f41273ca6e"
      },
      "outputs": [
        {
          "name": "stdout",
          "output_type": "stream",
          "text": [
            "Enter your sentence one:::\n",
            "jeevana Gillala Reddy $ % @\n",
            "Enter your sentence one:::\n",
            "#%@&\n"
          ]
        }
      ],
      "source": [
        "# Your code here\n",
        "sentence = []\n",
        "for _ in range(0, 2):\n",
        " print(\"Enter your sentence one:::\")\n",
        " sentence.append(input())"
      ]
    },
    {
      "cell_type": "code",
      "source": [
        "sentence"
      ],
      "metadata": {
        "colab": {
          "base_uri": "https://localhost:8080/"
        },
        "id": "C3EjBlsl4d8K",
        "outputId": "41cd8ba0-fc7c-4817-a917-d176020613b1"
      },
      "execution_count": 45,
      "outputs": [
        {
          "output_type": "execute_result",
          "data": {
            "text/plain": [
              "['jeevana Gillala Reddy $ % @', '#%@&']"
            ]
          },
          "metadata": {},
          "execution_count": 45
        }
      ]
    },
    {
      "cell_type": "code",
      "source": [
        "import re\n",
        "\n",
        "updatedList = []\n",
        "for se in sentence:\n",
        "  sent = re.findall(r\"[\\w']+|[.,!?;#@]\", se)\n",
        "  updatedList.append(sent)"
      ],
      "metadata": {
        "id": "44ELExZz3hyg"
      },
      "execution_count": 46,
      "outputs": []
    },
    {
      "cell_type": "code",
      "source": [
        "updatedList"
      ],
      "metadata": {
        "colab": {
          "base_uri": "https://localhost:8080/"
        },
        "id": "0PYbdmkz5A_e",
        "outputId": "de6bf5f7-6ca0-43e8-f6d6-84807da2c4f3"
      },
      "execution_count": 47,
      "outputs": [
        {
          "output_type": "execute_result",
          "data": {
            "text/plain": [
              "[['jeevana', 'Gillala', 'Reddy', '@'], ['#', '@']]"
            ]
          },
          "metadata": {},
          "execution_count": 47
        }
      ]
    },
    {
      "cell_type": "code",
      "source": [
        "set(updatedList[0]) & set(updatedList[1])"
      ],
      "metadata": {
        "colab": {
          "base_uri": "https://localhost:8080/"
        },
        "id": "__SED3pX6JTW",
        "outputId": "4abe8b4a-429f-40fe-e4b5-e5520a59dec8"
      },
      "execution_count": 48,
      "outputs": [
        {
          "output_type": "execute_result",
          "data": {
            "text/plain": [
              "{'@'}"
            ]
          },
          "metadata": {},
          "execution_count": 48
        }
      ]
    },
    {
      "cell_type": "code",
      "source": [
        "sentence"
      ],
      "metadata": {
        "colab": {
          "base_uri": "https://localhost:8080/"
        },
        "id": "f7eirHfQ88UC",
        "outputId": "f19fbe78-94ee-434f-db8f-96a3f3bfd8fc"
      },
      "execution_count": 49,
      "outputs": [
        {
          "output_type": "execute_result",
          "data": {
            "text/plain": [
              "['jeevana Gillala Reddy $ % @', '#%@&']"
            ]
          },
          "metadata": {},
          "execution_count": 49
        }
      ]
    },
    {
      "cell_type": "code",
      "source": [
        "re.sub(r'[^\\w\\s]', '', sentence[0])"
      ],
      "metadata": {
        "colab": {
          "base_uri": "https://localhost:8080/",
          "height": 35
        },
        "id": "6VCOOQnF6v0T",
        "outputId": "ddebbd25-3686-4e8f-cb44-74cc29c5acec"
      },
      "execution_count": 50,
      "outputs": [
        {
          "output_type": "execute_result",
          "data": {
            "application/vnd.google.colaboratory.intrinsic+json": {
              "type": "string"
            },
            "text/plain": [
              "'jeevana Gillala Reddy   '"
            ]
          },
          "metadata": {},
          "execution_count": 50
        }
      ]
    },
    {
      "cell_type": "code",
      "source": [
        "def countVowels(sentence):\n",
        "  lowercase = sentence.lower()\n",
        "  vowels = {}\n",
        "  for v in \"aeiou\":                        \n",
        "    countOfVowels = lowercase.count(v)\n",
        "    vowels[v] = countOfVowels\n",
        "  print(vowels)"
      ],
      "metadata": {
        "id": "V5QwnO2Z7hwL"
      },
      "execution_count": 51,
      "outputs": []
    },
    {
      "cell_type": "code",
      "source": [
        "countVowels('Jeevana Gillala')"
      ],
      "metadata": {
        "colab": {
          "base_uri": "https://localhost:8080/"
        },
        "id": "GcQTSRSd7ovP",
        "outputId": "4a722d71-7cce-4775-8c44-dbdc24356a7b"
      },
      "execution_count": 52,
      "outputs": [
        {
          "output_type": "stream",
          "name": "stdout",
          "text": [
            "{'a': 4, 'e': 2, 'i': 1, 'o': 0, 'u': 0}\n"
          ]
        }
      ]
    },
    {
      "cell_type": "markdown",
      "metadata": {
        "id": "CmFoI4jDS9nx"
      },
      "source": [
        "# Question 3 \n",
        "\n",
        "(5 points). The formula that describes the volume V of a sphere with radius r is the following:\n",
        "\n",
        "$ V=\\frac{4}{3}\\ast\\ \\pi\\ast\\ r^3 $\n",
        "\n",
        "Write a program to calculate the value of V when r is in the range of 1–10. Output the result in the following format:\n",
        "\n",
        "\tr\tV\n",
        "\t1\t…\n",
        "\t2\t…\n",
        "\t3\t…\n"
      ]
    },
    {
      "cell_type": "code",
      "execution_count": 53,
      "metadata": {
        "colab": {
          "base_uri": "https://localhost:8080/"
        },
        "id": "pEyqeioAT95b",
        "outputId": "37ff67b3-f5ca-42d1-fddd-09d4c938c94d"
      },
      "outputs": [
        {
          "output_type": "stream",
          "name": "stdout",
          "text": [
            "1\t\t4.189\n",
            "2\t\t33.509\n",
            "3\t\t113.094\n",
            "4\t\t268.075\n",
            "5\t\t523.583\n",
            "6\t\t904.752\n",
            "7\t\t1436.713\n",
            "8\t\t2144.597\n",
            "9\t\t3053.538\n",
            "10\t\t4188.667\n"
          ]
        }
      ],
      "source": [
        "# Your code here\n",
        "for radius in range(1, 11):\n",
        "  volume = (4/3)*(3.1415)*(radius**3)\n",
        "  print(\"%d\\t\\t%.3f\"%(radius, volume))"
      ]
    },
    {
      "cell_type": "markdown",
      "metadata": {
        "id": "z3tBE7E-Xn5X"
      },
      "source": [
        "# Question 4\n",
        "\n",
        "(20 points). In the field of Data Science, data is often formatted as a comma-delimited (CSV) file, where each line in a file corresponds to a field's value. Refer to Chapter 9 (p. 106) for more information on comma-delimited files. To answer this question, you will need to download the file [lab_assignment_02_denton_housing.csv](https://raw.githubusercontent.com/unt-iialab/info5502-spring2022/main/datasets/lab_assignment_02_denton_housing.csv) included with this assignment. The file [lab_assignment_02_denton_housing.csv](https://raw.githubusercontent.com/unt-iialab/info5502-spring2022/main/datasets/lab_assignment_02_denton_housing.csv) contains statistics about housing in the city of Denton from 2008 to 2014. Write a program to implement the following questions.\n",
        "\n",
        "(1) (10 pts) Calculate the difference in the number of Occupied Housing Units from year to year and print it. The difference must be calculated for the consecutive years such as 2008-2009, 2009-2010 etc. Finally, print the values in the ascending order.\n",
        "\n",
        "(2) (10 pts) For all the years, calculate the percentage of housing units which are vacant an occupied. Print the results in the following format:\n",
        "\n",
        "Year Vacant Housing Units Occupied Housing Units\n",
        "\n",
        "    2008  30%   70%                          \n",
        "\t2009 ----- -----\n",
        "\t2010 ----- -----\n",
        "    2011 ----- -----\n",
        "\t2012 ----- -----\n",
        "    2013 ----- -----\n",
        "\t2014 ----- -----\n",
        "  \n",
        "  \n",
        "\n",
        "(3) (10 pts) Calculate and print the valued and years in which the highest number of housing units were vacant and occupied. Print the results in the following format:  \n",
        "\n",
        "                              Year\tValue\n",
        "\tVacant Housing Units\t  -----   -----\n",
        "\tOccupied Housing Units\t-----   -----\n",
        "\n",
        "(4) (10 pts) Calculate the harmonic mean of the total housing units and print it out. You can find the information about harmonic mean here: https://ncalculators.com/statistics/harmonic-mean-calculator.htm"
      ]
    },
    {
      "cell_type": "code",
      "execution_count": 54,
      "metadata": {
        "id": "lqGYuHBhcsRH"
      },
      "outputs": [],
      "source": [
        "# Your code here\n",
        "#Q1\n",
        "\n",
        "import pandas as pd\n",
        "import statistics\n",
        "pd.options.mode.chained_assignment = None \n",
        "\n",
        "#Q1:\n",
        "\n",
        "def differenceintheNumberofOccupiedHousingUnits(df):\n",
        "  df['year'] = pd.to_datetime(df['year'],format='%Y')\n",
        "  df['year'] = df['year'].dt.year\n",
        "  df1 = df[df['title_field'] == 'Occupied Housing Units'] \n",
        "  df1.sort_values(by=['year'], ascending=True, inplace=True)\n",
        "  df1['Difference'] = df1['value'].diff()\n",
        "  diffList = difference(df1['year'].values.tolist())\n",
        "  df1.dropna(inplace=True)\n",
        "  df1['Year Difference'] = diffList\n",
        "  df2 = df1.iloc[:, -2:] \n",
        "  df2 = df2[['Year Difference', 'Difference']]\n",
        "  df2.reset_index(drop=True, inplace=True)\n",
        "  print(df2)\n",
        "\n",
        "def difference(yearList):\n",
        "  combinedList = []\n",
        "  yearList1 = yearList[1:]\n",
        "  for year1, year2 in zip(yearList, yearList1):\n",
        "    combinedList.append(str(year1) + '-' + str(year2))\n",
        "  return combinedList"
      ]
    },
    {
      "cell_type": "code",
      "source": [
        "df = pd.read_csv('/content/sample_data/lab_assignment_02_denton_housing.csv')"
      ],
      "metadata": {
        "id": "3dPPWVIqL0UE"
      },
      "execution_count": 55,
      "outputs": []
    },
    {
      "cell_type": "code",
      "source": [
        "differenceintheNumberofOccupiedHousingUnits(df)"
      ],
      "metadata": {
        "colab": {
          "base_uri": "https://localhost:8080/"
        },
        "id": "K9oS4mcRL-Mf",
        "outputId": "a5bf4ecf-4404-415e-f561-2f8e3f418254"
      },
      "execution_count": 56,
      "outputs": [
        {
          "output_type": "stream",
          "name": "stdout",
          "text": [
            "  Year Difference  Difference\n",
            "0       2008-2009      -795.0\n",
            "1       2009-2010      5091.0\n",
            "2       2010-2011      -303.0\n",
            "3       2011-2012      1404.0\n",
            "4       2012-2013      1565.0\n",
            "5       2013-2014      2622.0\n"
          ]
        }
      ]
    },
    {
      "cell_type": "markdown",
      "source": [
        "# Q2:"
      ],
      "metadata": {
        "id": "tuxW1B-nNBp1"
      }
    },
    {
      "cell_type": "code",
      "source": [
        "yearvalues = sorted(list(set(df['year'].values.tolist())), reverse = True)\n",
        "totalHosuingValues = df[df['title_field'] == 'Total Housing Units']['value'].tolist()\n",
        "vacantHousingValues = df[df['title_field'] == 'Vacant Housing Units']['value'].tolist()\n",
        "occupiedHousingValues = df[df['title_field'] == 'Occupied Housing Units']['value'].tolist()\n",
        "vacantPercentageList = [str((vacant / total) * 100) + \"%\" for vacant, total in zip(vacantHousingValues, totalHosuingValues)]\n",
        "occupiedpercentageList = [str((occupied / total) * 100) + \"%\"  for occupied, total in zip(occupiedHousingValues, totalHosuingValues)]\n",
        "df2 = pd.DataFrame({'Year': yearvalues,\n",
        "                     'Vacant Housing Units': vacantPercentageList,\n",
        "                     'Occupied Housing Units': occupiedpercentageList})\n",
        "print(df2)"
      ],
      "metadata": {
        "colab": {
          "base_uri": "https://localhost:8080/"
        },
        "id": "o7twRVyOM0kh",
        "outputId": "f377e42b-eb68-4729-8feb-17fb31d06b82"
      },
      "execution_count": 57,
      "outputs": [
        {
          "output_type": "stream",
          "name": "stdout",
          "text": [
            "   Year Vacant Housing Units Occupied Housing Units\n",
            "0  2014   5.730110570363885%     94.26988942963611%\n",
            "1  2013   8.801787504176412%     91.19821249582358%\n",
            "2  2012   6.677600230491346%     93.32239976950866%\n",
            "3  2011   9.379522229890688%      90.6204777701093%\n",
            "4  2010   8.142556337081672%     91.85744366291833%\n",
            "5  2009    9.07111572444872%     90.92888427555128%\n",
            "6  2008   10.88265281351653%     89.11734718648347%\n"
          ]
        }
      ]
    },
    {
      "cell_type": "markdown",
      "source": [
        "# Q3"
      ],
      "metadata": {
        "id": "D4sF38NgNHl1"
      }
    },
    {
      "cell_type": "code",
      "source": [
        "def getMaxValue(df, columnsName):\n",
        "  df1 = df[df['title_field'] == columnsName]\n",
        "  max = df1['value'].max()\n",
        "  year = df1[df1['value'] == max]['year'].values[0]\n",
        "  return year, max"
      ],
      "metadata": {
        "id": "meCDjU8FNTOW"
      },
      "execution_count": 58,
      "outputs": []
    },
    {
      "cell_type": "code",
      "source": [
        "vacantTuple = getMaxValue(df,'Vacant Housing Units')\n",
        "occupiedTuple = getMaxValue(df,'Occupied Housing Units')\n",
        "df3 = pd.DataFrame({'Title': ['Vacant Housing Units', 'Occupied Housing Units'],\n",
        "                     'Year' : [vacantTuple[0], occupiedTuple[0]],\n",
        "                      'Value': [vacantTuple[1], occupiedTuple[1]]\n",
        "                     })\n",
        "df3.set_index('Title')\n",
        "print(df3)"
      ],
      "metadata": {
        "colab": {
          "base_uri": "https://localhost:8080/"
        },
        "id": "dzZh_QEkNKDy",
        "outputId": "f325a20c-3a45-44b6-8de5-13cb5408dc73"
      },
      "execution_count": 59,
      "outputs": [
        {
          "output_type": "stream",
          "name": "stdout",
          "text": [
            "                    Title  Year  Value\n",
            "0    Vacant Housing Units  2008   4483\n",
            "1  Occupied Housing Units  2014  46295\n"
          ]
        }
      ]
    },
    {
      "cell_type": "markdown",
      "source": [
        "# Q4"
      ],
      "metadata": {
        "id": "r5--rDmINZlP"
      }
    },
    {
      "cell_type": "code",
      "source": [
        "totalHousingValues = df[df['title_field'] == 'Total Housing Units']['value'].tolist()\n",
        "harmonicMean = statistics.harmonic_mean(totalHousingValues)\n",
        "print(f\"Harmonic mean of the total housing units is {harmonicMean}\")"
      ],
      "metadata": {
        "colab": {
          "base_uri": "https://localhost:8080/"
        },
        "id": "IcPy5O4JNd9p",
        "outputId": "006e4c5e-579a-4855-d93c-beff5eb4352e"
      },
      "execution_count": 60,
      "outputs": [
        {
          "output_type": "stream",
          "name": "stdout",
          "text": [
            "Harmonic mean of the total housing units is 44398.28543969185\n"
          ]
        }
      ]
    }
  ],
  "metadata": {
    "colab": {
      "collapsed_sections": [],
      "name": "lab_assignment_02 (7).ipynb",
      "provenance": [],
      "include_colab_link": true
    },
    "kernelspec": {
      "display_name": "Python 3",
      "language": "python",
      "name": "python3"
    },
    "language_info": {
      "codemirror_mode": {
        "name": "ipython",
        "version": 3
      },
      "file_extension": ".py",
      "mimetype": "text/x-python",
      "name": "python",
      "nbconvert_exporter": "python",
      "pygments_lexer": "ipython3",
      "version": "3.8.5"
    }
  },
  "nbformat": 4,
  "nbformat_minor": 0
}